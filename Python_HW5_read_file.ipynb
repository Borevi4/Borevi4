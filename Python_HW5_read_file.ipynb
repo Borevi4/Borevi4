{
  "nbformat": 4,
  "nbformat_minor": 0,
  "metadata": {
    "colab": {
      "provenance": [],
      "collapsed_sections": [],
      "authorship_tag": "ABX9TyNLrdXGlPvQD79KD/U21Ckd",
      "include_colab_link": true
    },
    "kernelspec": {
      "name": "python3",
      "display_name": "Python 3"
    },
    "language_info": {
      "name": "python"
    }
  },
  "cells": [
    {
      "cell_type": "markdown",
      "metadata": {
        "id": "view-in-github",
        "colab_type": "text"
      },
      "source": [
        "<a href=\"https://colab.research.google.com/github/Borevi4/Borevi4/blob/main/Python_HW5_read_file.ipynb\" target=\"_parent\"><img src=\"https://colab.research.google.com/assets/colab-badge.svg\" alt=\"Open In Colab\"/></a>"
      ]
    },
    {
      "cell_type": "code",
      "source": [
        "import json"
      ],
      "metadata": {
        "id": "FOUnFPOldcgC"
      },
      "execution_count": 26,
      "outputs": []
    },
    {
      "cell_type": "code",
      "execution_count": 27,
      "metadata": {
        "id": "SQIBRuBDaSa5"
      },
      "outputs": [],
      "source": [
        "purchases = {}\n",
        "with open('purchase_log.txt') as f:\n",
        "  for i, line in enumerate(f):\n",
        "    if i != 0:\n",
        "      purchase_str = line.strip()\n",
        "      purchase = json.loads(purchase_str)\n",
        "      purchases[purchase[\"user_id\"]] = purchase[\"category\"]"
      ]
    },
    {
      "cell_type": "code",
      "source": [
        "for i, key in enumerate(purchases.keys()):\n",
        "  print(key, purchases[key])\n",
        "  if i == 10:\n",
        "    break"
      ],
      "metadata": {
        "colab": {
          "base_uri": "https://localhost:8080/"
        },
        "id": "0MxJmUiFerPk",
        "outputId": "486615f5-8cfb-4154-e42e-032151f53028"
      },
      "execution_count": 28,
      "outputs": [
        {
          "output_type": "stream",
          "name": "stdout",
          "text": [
            "1840e0b9d4 Продукты\n",
            "4e4f90fcfb Электроника\n",
            "afea8d72fc Электроника\n",
            "373a6055fe Бытовая техника\n",
            "9b2ab046f3 Электроника\n",
            "9f39d307c3 Электроника\n",
            "44edeffc91 Продукты\n",
            "704474fa2d Продукты\n",
            "1de31be403 Бытовая техника\n",
            "b71f36a5e4 Продукты\n",
            "79843a685a Продукты\n"
          ]
        }
      ]
    },
    {
      "cell_type": "code",
      "source": [
        "with open('visit_log.csv') as input:\n",
        "  with open('funnel.csv', 'w') as output:\n",
        "    output.write('user_id,source,category\\n')\n",
        "    for i, line in enumerate(input):\n",
        "      if i != 0:\n",
        "        user_id, source = line.strip().split(',')\n",
        "        if user_id in purchases.keys():\n",
        "          output.write(f'{user_id},{source},{purchases[user_id]}\\n')"
      ],
      "metadata": {
        "id": "8MpoY_UoiJ-k"
      },
      "execution_count": 32,
      "outputs": []
    }
  ]
}