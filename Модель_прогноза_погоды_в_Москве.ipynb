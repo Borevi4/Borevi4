{
  "nbformat": 4,
  "nbformat_minor": 0,
  "metadata": {
    "colab": {
      "name": "Модель прогноза погоды в Москве",
      "provenance": [],
      "collapsed_sections": [
        "XDJc4FnPqRRB"
      ],
      "include_colab_link": true
    },
    "kernelspec": {
      "name": "python3",
      "display_name": "Python 3"
    }
  },
  "cells": [
    {
      "cell_type": "markdown",
      "metadata": {
        "id": "view-in-github",
        "colab_type": "text"
      },
      "source": [
        "<a href=\"https://colab.research.google.com/github/Borevi4/Borevi4/blob/main/%D0%9C%D0%BE%D0%B4%D0%B5%D0%BB%D1%8C_%D0%BF%D1%80%D0%BE%D0%B3%D0%BD%D0%BE%D0%B7%D0%B0_%D0%BF%D0%BE%D0%B3%D0%BE%D0%B4%D1%8B_%D0%B2_%D0%9C%D0%BE%D1%81%D0%BA%D0%B2%D0%B5.ipynb\" target=\"_parent\"><img src=\"https://colab.research.google.com/assets/colab-badge.svg\" alt=\"Open In Colab\"/></a>"
      ]
    },
    {
      "cell_type": "markdown",
      "metadata": {
        "id": "rR0Q86-INvMR"
      },
      "source": [
        "Данные взяты с сайта https://rp5.ru/Архив_погоды_в_Шереметьево,_им._А._С._Пушкина_(аэропорт)\n",
        " \n",
        "Ссылка на вебинар\n",
        "https://live.skillbox.ru/webinars/code/analiz-dannykh-v-data-science-znakomimsya-s-python160522/\n",
        "\n",
        "[Ссылка на презентацию](https://docs.google.com/presentation/d/1hT_EFHPCdwIjwMH2m85oSz0aPtQQkQQE/edit?usp=sharing&ouid=105457601321822381103&rtpof=true&sd=true)\n"
      ]
    },
    {
      "cell_type": "markdown",
      "source": [
        "# А на какой уровень рассчитан вебинар?\n",
        "На нулевой - для тех, кто никогда не программировал и хочет познакомиться с профессией\n",
        "\n",
        "- А что если я не успеваю повторять за спикером?\n",
        "\n",
        "Это ок. Мы не закладывали на это время, поэтому ставьте видео на паузу самостоятельно и отматывайте назад там, где вам нужно время.\n",
        "\n",
        "- А что если я уже потерял нить повествования?\n",
        "\n",
        "Это ок. Невозможно научиться программировать на слух. Для этого нужно взять готовый код и 1) успешно его запустить, 2) попытаться его \"сломать\". Поэтому мы сохраняем запись эфира и этот код, в котором каждая строчка дополнена комментариями\n",
        "\n",
        "- А я смогу выполнить ДЗ, ведь я не знаю ни одной функции, которыми пользуется спикер?\n",
        "\n",
        "Спойлер: спикер тоже не знал эти функции, когда впервые сел кодить :) Поэтому ДЗ будет дано в формате \"замените одну строчку вот здесь и вот здесь аналогично тому, как мы делали на вебинаре\". А еще мы не требуем от вас идеального выполнения - мы зачтем работу, даже если код не работает :)"
      ],
      "metadata": {
        "id": "gp3-LbUWUI14"
      }
    },
    {
      "cell_type": "markdown",
      "metadata": {
        "id": "QKOeQYN9qIB9"
      },
      "source": [
        "#1. Введение в Python"
      ]
    },
    {
      "cell_type": "code",
      "metadata": {
        "id": "VXhB6NL7Hj3Z"
      },
      "source": [
        "# Комментарий начинается со знака \"решетка\" и заканчивается в конце строки\n",
        "# Чтобы добавить новую ячейку, нужно нажать кнопку \"+Код\" в левом верхнем углу, для запуска - Shift+Enter\n",
        "# Ячейка выведет значение выражения в последней строке (либо значение переменной)\n",
        "\n",
        "# Переменная - аналог x, y, z в школьных формулах - значение, которому мы дали удобное имя (главное, что оно не начиналось с цифры)\n",
        "x = 6\n",
        "x = 2\n",
        "y = 5"
      ],
      "execution_count": null,
      "outputs": []
    },
    {
      "cell_type": "code",
      "source": [
        "x + y"
      ],
      "metadata": {
        "colab": {
          "base_uri": "https://localhost:8080/"
        },
        "id": "jDo9PHoi3sBq",
        "outputId": "a4c3a772-13eb-427a-b4b1-b0ac5a293411"
      },
      "execution_count": null,
      "outputs": [
        {
          "output_type": "execute_result",
          "data": {
            "text/plain": [
              "7"
            ]
          },
          "metadata": {},
          "execution_count": 3
        }
      ]
    },
    {
      "cell_type": "code",
      "metadata": {
        "id": "Dh_50-YMJue8"
      },
      "source": [
        "# Для того, чтобы писать какие-то программы, нужны списки с данными (например, список со значенийми температуры). \n",
        "# Список записывается в квадрадных скобках через запятую\n",
        "arr = [1, 2, 3, 4, x, y]"
      ],
      "execution_count": null,
      "outputs": []
    },
    {
      "cell_type": "code",
      "source": [
        "arr"
      ],
      "metadata": {
        "colab": {
          "base_uri": "https://localhost:8080/"
        },
        "id": "embRupGh388P",
        "outputId": "76e4ebe6-6d17-47cc-a26e-c1266dfa35d2"
      },
      "execution_count": null,
      "outputs": [
        {
          "output_type": "execute_result",
          "data": {
            "text/plain": [
              "[1, 2, 3, 4, 2, 5]"
            ]
          },
          "metadata": {},
          "execution_count": 5
        }
      ]
    },
    {
      "cell_type": "code",
      "metadata": {
        "id": "EULMz-0XJjPD"
      },
      "source": [
        "# А что, если значение неизвестно? Например, термометр сломался.\n",
        "# Специальный тип данных \"ничто\" (None (pure Python), NaN - not a number (pandas), NaT - not a time (pandas))\n",
        "arr = [1, 2, 3, 4, x, y, None, x]  # номера ячеек: 0, 1, 2, 3, 4, ..."
      ],
      "execution_count": null,
      "outputs": []
    },
    {
      "cell_type": "code",
      "source": [
        "arr"
      ],
      "metadata": {
        "colab": {
          "base_uri": "https://localhost:8080/"
        },
        "id": "DCj-Ixnl4QPg",
        "outputId": "23bd7b7a-a188-40c7-a8ba-489cda68abb1"
      },
      "execution_count": null,
      "outputs": [
        {
          "output_type": "execute_result",
          "data": {
            "text/plain": [
              "[1, 2, 3, 4, 2, 5, None, 2]"
            ]
          },
          "metadata": {},
          "execution_count": 7
        }
      ]
    },
    {
      "cell_type": "code",
      "metadata": {
        "id": "_VlPc99HKZyS",
        "colab": {
          "base_uri": "https://localhost:8080/"
        },
        "outputId": "a7d6d751-e94c-4cc6-c52f-ae075a721499"
      },
      "source": [
        "# В списке можно получить любое значение по его номеру (\"адресу\") в списке. \n",
        "# Нумерация начинается с 0, номер пишется в квадратных скобках\n",
        "\n",
        "arr[4]"
      ],
      "execution_count": null,
      "outputs": [
        {
          "output_type": "execute_result",
          "data": {
            "text/plain": [
              "2"
            ]
          },
          "metadata": {},
          "execution_count": 8
        }
      ]
    },
    {
      "cell_type": "code",
      "source": [
        "number_x = 1\n",
        "NUMBER_X = 2"
      ],
      "metadata": {
        "id": "NmeLx3X54y4a"
      },
      "execution_count": null,
      "outputs": []
    },
    {
      "cell_type": "code",
      "source": [
        "number_x"
      ],
      "metadata": {
        "colab": {
          "base_uri": "https://localhost:8080/"
        },
        "id": "B646rwY944Ur",
        "outputId": "de309843-be5d-436e-a217-6e37c591aa1b"
      },
      "execution_count": null,
      "outputs": [
        {
          "output_type": "execute_result",
          "data": {
            "text/plain": [
              "1"
            ]
          },
          "metadata": {},
          "execution_count": 10
        }
      ]
    },
    {
      "cell_type": "code",
      "source": [
        "NUMBER_X"
      ],
      "metadata": {
        "colab": {
          "base_uri": "https://localhost:8080/"
        },
        "id": "veIRnnef457M",
        "outputId": "9f2a6ed0-dc3f-415f-8a76-28f5d8febbb9"
      },
      "execution_count": null,
      "outputs": [
        {
          "output_type": "execute_result",
          "data": {
            "text/plain": [
              "2"
            ]
          },
          "metadata": {},
          "execution_count": 11
        }
      ]
    },
    {
      "cell_type": "markdown",
      "metadata": {
        "id": "88iWT8sSqYKU"
      },
      "source": [
        "#2. Matplotlib: графики"
      ]
    },
    {
      "cell_type": "code",
      "metadata": {
        "id": "XkGGGxBKKxIo"
      },
      "source": [
        "# Для того, чтобы использовать какой-то функционал сложнее арифметических операций, \n",
        "# нужно в явном виде подключить пакет (библиотеку, модуль)\n",
        "\n",
        "import matplotlib.pyplot as plt\n",
        "\n",
        "# Эту ячейку нужно обязательно выполнить, чтобы не получить потом ошибку NameError: name 'plt' is not defined"
      ],
      "execution_count": null,
      "outputs": []
    },
    {
      "cell_type": "code",
      "metadata": {
        "id": "oYaX5PLELLAe",
        "colab": {
          "base_uri": "https://localhost:8080/",
          "height": 282
        },
        "outputId": "8fc39aeb-1230-452e-8005-e8156674bfcf"
      },
      "source": [
        "# Список координат по оси X и Y, передаем их в функцию как аргументы\n",
        "x = [1, 2, 3, 4, 5, 6]\n",
        "y = [6, 3, 4, 1, 6, 9]\n",
        "\n",
        "plt.plot(x, y)"
      ],
      "execution_count": null,
      "outputs": [
        {
          "output_type": "execute_result",
          "data": {
            "text/plain": [
              "[<matplotlib.lines.Line2D at 0x7f74a0a75850>]"
            ]
          },
          "metadata": {},
          "execution_count": 13
        },
        {
          "output_type": "display_data",
          "data": {
            "text/plain": [
              "<Figure size 432x288 with 1 Axes>"
            ],
            "image/png": "[encoded data removed]"
          },
          "metadata": {
            "needs_background": "light"
          }
        }
      ]
    },
    {
      "cell_type": "markdown",
      "source": [
        "# Загружаем файл из интернета"
      ],
      "metadata": {
        "id": "IGfICQ-_aHsL"
      }
    },
    {
      "cell_type": "code",
      "metadata": {
        "colab": {
          "base_uri": "https://localhost:8080/"
        },
        "id": "dXj4bNhOcxpM",
        "outputId": "d6527c42-588e-4f04-e1dd-569998e81bff"
      },
      "source": [
        "# Ячейку нужно просто выполнить\n",
        "\n",
        "# Скачивание файла по ссылке\n",
        "!wget -O \"weather.xls.gz\" \"http://93.90.217.252/download/files.synop/27/27612.01.01.2016.18.10.2021.1.0.0.ru.utf8.00000000.xls.gz\"\n",
        "\n",
        "# Распаковка архива\n",
        "!gzip -df \"weather.xls.gz\""
      ],
      "execution_count": null,
      "outputs": [
        {
          "output_type": "stream",
          "name": "stdout",
          "text": [
            "--2022-05-19 19:56:08--  http://93.90.217.252/download/files.synop/27/27612.01.01.2016.18.10.2021.1.0.0.ru.utf8.00000000.xls.gz\n",
            "Connecting to 93.90.217.252:80... connected.\n",
            "HTTP request sent, awaiting response... 200 OK\n",
            "Length: 1403974 (1.3M) [application/octet-stream]\n",
            "Saving to: ‘weather.xls.gz’\n",
            "\n",
            "weather.xls.gz      100%[===================>]   1.34M   553KB/s    in 2.5s    \n",
            "\n",
            "2022-05-19 19:56:10 (553 KB/s) - ‘weather.xls.gz’ saved [1403974/1403974]\n",
            "\n"
          ]
        }
      ]
    },
    {
      "cell_type": "markdown",
      "metadata": {
        "id": "XDJc4FnPqRRB"
      },
      "source": [
        "### Инструкция, как получить ссылку на другой датасет (если хочется другой город / период)"
      ]
    },
    {
      "cell_type": "markdown",
      "source": [
        "https://rp5.ru/Архив_погоды_в_Шереметьево,_им._А._С._Пушкина_(аэропорт)\n",
        "\n",
        "\n",
        "1.   Нажимаем \"Выбрать файл GZ (архив)\"\n",
        "2.   Справа от кнопки появится ссылка \"Скачать\"\n",
        "3.   Нажимаем по ссылке правой кнопкой мыши, выбираем \"Копировать адрес ссылки\"\n",
        "4.   Копируем в ячейку \n"
      ],
      "metadata": {
        "id": "354BcOWCYSBd"
      }
    },
    {
      "cell_type": "markdown",
      "source": [
        "<img src='https://drive.google.com/uc?export=view&id=1KlwDdiaRkUr2MgiX_pFDNuxg_HaLBgLH' height=350>"
      ],
      "metadata": {
        "id": "XmpbLLevXSAC"
      }
    },
    {
      "cell_type": "markdown",
      "metadata": {
        "id": "kwCik4Ydqisa"
      },
      "source": [
        "#3. Pandas: таблицы"
      ]
    },
    {
      "cell_type": "code",
      "source": [
        "# Исправляем баг Google Colab - обновляем пакет для считывания Excel-файлов\n",
        "!pip install --upgrade xlrd"
      ],
      "metadata": {
        "id": "EWKOAV0cRgjR",
        "colab": {
          "base_uri": "https://localhost:8080/"
        },
        "outputId": "76928db7-21aa-45c6-9f26-75453eb4b7ea"
      },
      "execution_count": null,
      "outputs": [
        {
          "output_type": "stream",
          "name": "stdout",
          "text": [
            "Requirement already satisfied: xlrd in /usr/local/lib/python3.7/dist-packages (1.1.0)\n",
            "Collecting xlrd\n",
            "  Downloading xlrd-2.0.1-py2.py3-none-any.whl (96 kB)\n",
            "\u001b[?25l\r\u001b[K     |███▍                            | 10 kB 24.2 MB/s eta 0:00:01\r\u001b[K     |██████▉                         | 20 kB 31.3 MB/s eta 0:00:01\r\u001b[K     |██████████▏                     | 30 kB 18.7 MB/s eta 0:00:01\r\u001b[K     |█████████████▋                  | 40 kB 12.8 MB/s eta 0:00:01\r\u001b[K     |█████████████████               | 51 kB 5.7 MB/s eta 0:00:01\r\u001b[K     |████████████████████▍           | 61 kB 6.7 MB/s eta 0:00:01\r\u001b[K     |███████████████████████▊        | 71 kB 7.4 MB/s eta 0:00:01\r\u001b[K     |███████████████████████████▏    | 81 kB 8.0 MB/s eta 0:00:01\r\u001b[K     |██████████████████████████████▌ | 92 kB 8.9 MB/s eta 0:00:01\r\u001b[K     |████████████████████████████████| 96 kB 4.2 MB/s \n",
            "\u001b[?25hInstalling collected packages: xlrd\n",
            "  Attempting uninstall: xlrd\n",
            "    Found existing installation: xlrd 1.1.0\n",
            "    Uninstalling xlrd-1.1.0:\n",
            "      Successfully uninstalled xlrd-1.1.0\n",
            "Successfully installed xlrd-2.0.1\n"
          ]
        }
      ]
    },
    {
      "cell_type": "code",
      "metadata": {
        "id": "1YShTFleR12A"
      },
      "source": [
        "# Подключаем библиотеку pandas для работы с таблицами (стандартный псевдоним - pd)\n",
        "\n",
        "import pandas as pd"
      ],
      "execution_count": null,
      "outputs": []
    },
    {
      "cell_type": "code",
      "metadata": {
        "id": "bFTcUG3GSB7E"
      },
      "source": [
        "# Считываем Excel-таблицу в переменную data, удалив первые 6 строк с комментариями)\n",
        "data = pd.read_excel(\"weather.xls\", skiprows=6)"
      ],
      "execution_count": null,
      "outputs": []
    },
    {
      "cell_type": "code",
      "metadata": {
        "id": "X2WdsPA-SUqu",
        "colab": {
          "base_uri": "https://localhost:8080/",
          "height": 1000
        },
        "outputId": "b402ee2f-29f1-484f-ad68-b068f1324c5f"
      },
      "source": [
        "# Смотрим, что получилось\n",
        "# первые 10 строк\n",
        "data.head(10)"
      ],
      "execution_count": null,
      "outputs": [
        {
          "output_type": "execute_result",
          "data": {
            "text/plain": [
              "  Местное время в Москве (ВДНХ)    T     Po      P   Pa     U  \\\n",
              "0              18.10.2021 18:00  4.1  743.6  757.4  0.4  86.0   \n",
              "1              18.10.2021 15:00  6.1  743.2  756.9  0.2  63.0   \n",
              "2              18.10.2021 12:00  5.1  743.0  756.7  1.3  85.0   \n",
              "3              18.10.2021 09:00  5.8  741.7  755.5 -0.9  93.0   \n",
              "4              18.10.2021 06:00  6.2  742.6  756.3 -1.1  84.0   \n",
              "5              18.10.2021 03:00  7.1  743.7  757.3 -0.9  82.0   \n",
              "6              18.10.2021 00:00  6.7  744.6  758.3 -0.7  83.0   \n",
              "7              17.10.2021 21:00  6.6  745.3  759.0  0.1  82.0   \n",
              "8              17.10.2021 18:00  7.9  745.2  758.8 -0.4  76.0   \n",
              "9              17.10.2021 15:00  7.8  745.6  759.3 -0.6  73.0   \n",
              "\n",
              "                                     DD  Ff  ff10  ff3  ...  \\\n",
              "0  Ветер, дующий с западо-северо-запада   1   NaN  NaN  ...   \n",
              "1                Ветер, дующий с запада   1   NaN  NaN  ...   \n",
              "2                Ветер, дующий с запада   1   NaN  NaN  ...   \n",
              "3     Ветер, дующий с западо-юго-запада   1   NaN  NaN  ...   \n",
              "4                   Ветер, дующий с юга   1   NaN  NaN  ...   \n",
              "5     Ветер, дующий с западо-юго-запада   1   NaN  NaN  ...   \n",
              "6                      Штиль, безветрие   0   NaN  NaN  ...   \n",
              "7                      Штиль, безветрие   0   NaN  NaN  ...   \n",
              "8     Ветер, дующий с западо-юго-запада   1   NaN  NaN  ...   \n",
              "9     Ветер, дующий с западо-юго-запада   1   NaN  NaN  ...   \n",
              "\n",
              "                                                  Cm  \\\n",
              "0  Высококучевых, высокослоистых или слоисто-дожд...   \n",
              "1  Высококучевых, высокослоистых или слоисто-дожд...   \n",
              "2  Высококучевых, высокослоистых или слоисто-дожд...   \n",
              "3                                                NaN   \n",
              "4                                                NaN   \n",
              "5                                                NaN   \n",
              "6  Высококучевые просвечивающие, расположенные на...   \n",
              "7  Высококучевые просвечивающие, расположенные на...   \n",
              "8                                                NaN   \n",
              "9                                                NaN   \n",
              "\n",
              "                                                  Ch    VV   Td          RRR  \\\n",
              "0  Перистых, перисто-кучевых или перисто-слоистых...  17.0  1.9            3   \n",
              "1  Перистых, перисто-кучевых или перисто-слоистых...  20.0 -0.4          NaN   \n",
              "2  Перистых, перисто-кучевых или перисто-слоистых...  20.0  2.7          NaN   \n",
              "3                                                NaN   8.0  4.7          0.6   \n",
              "4                                                NaN  20.0  3.7  Осадков нет   \n",
              "5                                                NaN  20.0  4.2          NaN   \n",
              "6  Перистых, перисто-кучевых или перисто-слоистых...  20.0  4.0          NaN   \n",
              "7  Перистых, перисто-кучевых или перисто-слоистых...  20.0  3.7  Осадков нет   \n",
              "8                                                NaN  20.0  3.9  Осадков нет   \n",
              "9                                                NaN  20.0  3.3          NaN   \n",
              "\n",
              "     tR                           E   Tg   E'  sss  \n",
              "0  12.0                         NaN  NaN  NaN  NaN  \n",
              "1   NaN                         NaN  NaN  NaN  NaN  \n",
              "2   NaN                         NaN  NaN  NaN  NaN  \n",
              "3  12.0  Поверхность почвы влажная.  4.0  NaN  NaN  \n",
              "4  12.0                         NaN  NaN  NaN  NaN  \n",
              "5   NaN                         NaN  NaN  NaN  NaN  \n",
              "6   NaN                         NaN  NaN  NaN  NaN  \n",
              "7  12.0                         NaN  NaN  NaN  NaN  \n",
              "8  12.0                         NaN  NaN  NaN  NaN  \n",
              "9   NaN                         NaN  NaN  NaN  NaN  \n",
              "\n",
              "[10 rows x 29 columns]"
            ],
            "text/html": [
              "\n",
              "  <div id=\"df-10c65e35-714d-458d-bbda-c6dde0f9c5dd\">\n",
              "    <div class=\"colab-df-container\">\n",
              "      <div>\n",
              "<style scoped>\n",
              "    .dataframe tbody tr th:only-of-type {\n",
              "        vertical-align: middle;\n",
              "    }\n",
              "\n",
              "    .dataframe tbody tr th {\n",
              "        vertical-align: top;\n",
              "    }\n",
              "\n",
              "    .dataframe thead th {\n",
              "        text-align: right;\n",
              "    }\n",
              "</style>\n",
              "<table border=\"1\" class=\"dataframe\">\n",
              "  <thead>\n",
              "    <tr style=\"text-align: right;\">\n",
              "      <th></th>\n",
              "      <th>Местное время в Москве (ВДНХ)</th>\n",
              "      <th>T</th>\n",
              "      <th>Po</th>\n",
              "      <th>P</th>\n",
              "      <th>Pa</th>\n",
              "      <th>U</th>\n",
              "      <th>DD</th>\n",
              "      <th>Ff</th>\n",
              "      <th>ff10</th>\n",
              "      <th>ff3</th>\n",
              "      <th>...</th>\n",
              "      <th>Cm</th>\n",
              "      <th>Ch</th>\n",
              "      <th>VV</th>\n",
              "      <th>Td</th>\n",
              "      <th>RRR</th>\n",
              "      <th>tR</th>\n",
              "      <th>E</th>\n",
              "      <th>Tg</th>\n",
              "      <th>E'</th>\n",
              "      <th>sss</th>\n",
              "    </tr>\n",
              "  </thead>\n",
              "  <tbody>\n",
              "    <tr>\n",
              "      <th>0</th>\n",
              "      <td>18.10.2021 18:00</td>\n",
              "      <td>4.1</td>\n",
              "      <td>743.6</td>\n",
              "      <td>757.4</td>\n",
              "      <td>0.4</td>\n",
              "      <td>86.0</td>\n",
              "      <td>Ветер, дующий с западо-северо-запада</td>\n",
              "      <td>1</td>\n",
              "      <td>NaN</td>\n",
              "      <td>NaN</td>\n",
              "      <td>...</td>\n",
              "      <td>Высококучевых, высокослоистых или слоисто-дожд...</td>\n",
              "      <td>Перистых, перисто-кучевых или перисто-слоистых...</td>\n",
              "      <td>17.0</td>\n",
              "      <td>1.9</td>\n",
              "      <td>3</td>\n",
              "      <td>12.0</td>\n",
              "      <td>NaN</td>\n",
              "      <td>NaN</td>\n",
              "      <td>NaN</td>\n",
              "      <td>NaN</td>\n",
              "    </tr>\n",
              "    <tr>\n",
              "      <th>1</th>\n",
              "      <td>18.10.2021 15:00</td>\n",
              "      <td>6.1</td>\n",
              "      <td>743.2</td>\n",
              "      <td>756.9</td>\n",
              "      <td>0.2</td>\n",
              "      <td>63.0</td>\n",
              "      <td>Ветер, дующий с запада</td>\n",
              "      <td>1</td>\n",
              "      <td>NaN</td>\n",
              "      <td>NaN</td>\n",
              "      <td>...</td>\n",
              "      <td>Высококучевых, высокослоистых или слоисто-дожд...</td>\n",
              "      <td>Перистых, перисто-кучевых или перисто-слоистых...</td>\n",
              "      <td>20.0</td>\n",
              "      <td>-0.4</td>\n",
              "      <td>NaN</td>\n",
              "      <td>NaN</td>\n",
              "      <td>NaN</td>\n",
              "      <td>NaN</td>\n",
              "      <td>NaN</td>\n",
              "      <td>NaN</td>\n",
              "    </tr>\n",
              "    <tr>\n",
              "      <th>2</th>\n",
              "      <td>18.10.2021 12:00</td>\n",
              "      <td>5.1</td>\n",
              "      <td>743.0</td>\n",
              "      <td>756.7</td>\n",
              "      <td>1.3</td>\n",
              "      <td>85.0</td>\n",
              "      <td>Ветер, дующий с запада</td>\n",
              "      <td>1</td>\n",
              "      <td>NaN</td>\n",
              "      <td>NaN</td>\n",
              "      <td>...</td>\n",
              "      <td>Высококучевых, высокослоистых или слоисто-дожд...</td>\n",
              "      <td>Перистых, перисто-кучевых или перисто-слоистых...</td>\n",
              "      <td>20.0</td>\n",
              "      <td>2.7</td>\n",
              "      <td>NaN</td>\n",
              "      <td>NaN</td>\n",
              "      <td>NaN</td>\n",
              "      <td>NaN</td>\n",
              "      <td>NaN</td>\n",
              "      <td>NaN</td>\n",
              "    </tr>\n",
              "    <tr>\n",
              "      <th>3</th>\n",
              "      <td>18.10.2021 09:00</td>\n",
              "      <td>5.8</td>\n",
              "      <td>741.7</td>\n",
              "      <td>755.5</td>\n",
              "      <td>-0.9</td>\n",
              "      <td>93.0</td>\n",
              "      <td>Ветер, дующий с западо-юго-запада</td>\n",
              "      <td>1</td>\n",
              "      <td>NaN</td>\n",
              "      <td>NaN</td>\n",
              "      <td>...</td>\n",
              "      <td>NaN</td>\n",
              "      <td>NaN</td>\n",
              "      <td>8.0</td>\n",
              "      <td>4.7</td>\n",
              "      <td>0.6</td>\n",
              "      <td>12.0</td>\n",
              "      <td>Поверхность почвы влажная.</td>\n",
              "      <td>4.0</td>\n",
              "      <td>NaN</td>\n",
              "      <td>NaN</td>\n",
              "    </tr>\n",
              "    <tr>\n",
              "      <th>4</th>\n",
              "      <td>18.10.2021 06:00</td>\n",
              "      <td>6.2</td>\n",
              "      <td>742.6</td>\n",
              "      <td>756.3</td>\n",
              "      <td>-1.1</td>\n",
              "      <td>84.0</td>\n",
              "      <td>Ветер, дующий с юга</td>\n",
              "      <td>1</td>\n",
              "      <td>NaN</td>\n",
              "      <td>NaN</td>\n",
              "      <td>...</td>\n",
              "      <td>NaN</td>\n",
              "      <td>NaN</td>\n",
              "      <td>20.0</td>\n",
              "      <td>3.7</td>\n",
              "      <td>Осадков нет</td>\n",
              "      <td>12.0</td>\n",
              "      <td>NaN</td>\n",
              "      <td>NaN</td>\n",
              "      <td>NaN</td>\n",
              "      <td>NaN</td>\n",
              "    </tr>\n",
              "    <tr>\n",
              "      <th>5</th>\n",
              "      <td>18.10.2021 03:00</td>\n",
              "      <td>7.1</td>\n",
              "      <td>743.7</td>\n",
              "      <td>757.3</td>\n",
              "      <td>-0.9</td>\n",
              "      <td>82.0</td>\n",
              "      <td>Ветер, дующий с западо-юго-запада</td>\n",
              "      <td>1</td>\n",
              "      <td>NaN</td>\n",
              "      <td>NaN</td>\n",
              "      <td>...</td>\n",
              "      <td>NaN</td>\n",
              "      <td>NaN</td>\n",
              "      <td>20.0</td>\n",
              "      <td>4.2</td>\n",
              "      <td>NaN</td>\n",
              "      <td>NaN</td>\n",
              "      <td>NaN</td>\n",
              "      <td>NaN</td>\n",
              "      <td>NaN</td>\n",
              "      <td>NaN</td>\n",
              "    </tr>\n",
              "    <tr>\n",
              "      <th>6</th>\n",
              "      <td>18.10.2021 00:00</td>\n",
              "      <td>6.7</td>\n",
              "      <td>744.6</td>\n",
              "      <td>758.3</td>\n",
              "      <td>-0.7</td>\n",
              "      <td>83.0</td>\n",
              "      <td>Штиль, безветрие</td>\n",
              "      <td>0</td>\n",
              "      <td>NaN</td>\n",
              "      <td>NaN</td>\n",
              "      <td>...</td>\n",
              "      <td>Высококучевые просвечивающие, расположенные на...</td>\n",
              "      <td>Перистых, перисто-кучевых или перисто-слоистых...</td>\n",
              "      <td>20.0</td>\n",
              "      <td>4.0</td>\n",
              "      <td>NaN</td>\n",
              "      <td>NaN</td>\n",
              "      <td>NaN</td>\n",
              "      <td>NaN</td>\n",
              "      <td>NaN</td>\n",
              "      <td>NaN</td>\n",
              "    </tr>\n",
              "    <tr>\n",
              "      <th>7</th>\n",
              "      <td>17.10.2021 21:00</td>\n",
              "      <td>6.6</td>\n",
              "      <td>745.3</td>\n",
              "      <td>759.0</td>\n",
              "      <td>0.1</td>\n",
              "      <td>82.0</td>\n",
              "      <td>Штиль, безветрие</td>\n",
              "      <td>0</td>\n",
              "      <td>NaN</td>\n",
              "      <td>NaN</td>\n",
              "      <td>...</td>\n",
              "      <td>Высококучевые просвечивающие, расположенные на...</td>\n",
              "      <td>Перистых, перисто-кучевых или перисто-слоистых...</td>\n",
              "      <td>20.0</td>\n",
              "      <td>3.7</td>\n",
              "      <td>Осадков нет</td>\n",
              "      <td>12.0</td>\n",
              "      <td>NaN</td>\n",
              "      <td>NaN</td>\n",
              "      <td>NaN</td>\n",
              "      <td>NaN</td>\n",
              "    </tr>\n",
              "    <tr>\n",
              "      <th>8</th>\n",
              "      <td>17.10.2021 18:00</td>\n",
              "      <td>7.9</td>\n",
              "      <td>745.2</td>\n",
              "      <td>758.8</td>\n",
              "      <td>-0.4</td>\n",
              "      <td>76.0</td>\n",
              "      <td>Ветер, дующий с западо-юго-запада</td>\n",
              "      <td>1</td>\n",
              "      <td>NaN</td>\n",
              "      <td>NaN</td>\n",
              "      <td>...</td>\n",
              "      <td>NaN</td>\n",
              "      <td>NaN</td>\n",
              "      <td>20.0</td>\n",
              "      <td>3.9</td>\n",
              "      <td>Осадков нет</td>\n",
              "      <td>12.0</td>\n",
              "      <td>NaN</td>\n",
              "      <td>NaN</td>\n",
              "      <td>NaN</td>\n",
              "      <td>NaN</td>\n",
              "    </tr>\n",
              "    <tr>\n",
              "      <th>9</th>\n",
              "      <td>17.10.2021 15:00</td>\n",
              "      <td>7.8</td>\n",
              "      <td>745.6</td>\n",
              "      <td>759.3</td>\n",
              "      <td>-0.6</td>\n",
              "      <td>73.0</td>\n",
              "      <td>Ветер, дующий с западо-юго-запада</td>\n",
              "      <td>1</td>\n",
              "      <td>NaN</td>\n",
              "      <td>NaN</td>\n",
              "      <td>...</td>\n",
              "      <td>NaN</td>\n",
              "      <td>NaN</td>\n",
              "      <td>20.0</td>\n",
              "      <td>3.3</td>\n",
              "      <td>NaN</td>\n",
              "      <td>NaN</td>\n",
              "      <td>NaN</td>\n",
              "      <td>NaN</td>\n",
              "      <td>NaN</td>\n",
              "      <td>NaN</td>\n",
              "    </tr>\n",
              "  </tbody>\n",
              "</table>\n",
              "<p>10 rows × 29 columns</p>\n",
              "</div>\n",
              "      <button class=\"colab-df-convert\" onclick=\"convertToInteractive('df-10c65e35-714d-458d-bbda-c6dde0f9c5dd')\"\n",
              "              title=\"Convert this dataframe to an interactive table.\"\n",
              "              style=\"display:none;\">\n",
              "        \n",
              "  <svg xmlns=\"http://www.w3.org/2000/svg\" height=\"24px\"viewBox=\"0 0 24 24\"\n",
              "       width=\"24px\">\n",
              "    <path d=\"M0 0h24v24H0V0z\" fill=\"none\"/>\n",
              "    <path d=\"M18.56 5.44l.94 2.06.94-2.06 2.06-.94-2.06-.94-.94-2.06-.94 2.06-2.06.94zm-11 1L8.5 8.5l.94-2.06 2.06-.94-2.06-.94L8.5 2.5l-.94 2.06-2.06.94zm10 10l.94 2.06.94-2.06 2.06-.94-2.06-.94-.94-2.06-.94 2.06-2.06.94z\"/><path d=\"M17.41 7.96l-1.37-1.37c-.4-.4-.92-.59-1.43-.59-.52 0-1.04.2-1.43.59L10.3 9.45l-7.72 7.72c-.78.78-.78 2.05 0 2.83L4 21.41c.39.39.9.59 1.41.59.51 0 1.02-.2 1.41-.59l7.78-7.78 2.81-2.81c.8-.78.8-2.07 0-2.86zM5.41 20L4 18.59l7.72-7.72 1.47 1.35L5.41 20z\"/>\n",
              "  </svg>\n",
              "      </button>\n",
              "      \n",
              "  <style>\n",
              "    .colab-df-container {\n",
              "      display:flex;\n",
              "      flex-wrap:wrap;\n",
              "      gap: 12px;\n",
              "    }\n",
              "\n",
              "    .colab-df-convert {\n",
              "      background-color: #E8F0FE;\n",
              "      border: none;\n",
              "      border-radius: 50%;\n",
              "      cursor: pointer;\n",
              "      display: none;\n",
              "      fill: #1967D2;\n",
              "      height: 32px;\n",
              "      padding: 0 0 0 0;\n",
              "      width: 32px;\n",
              "    }\n",
              "\n",
              "    .colab-df-convert:hover {\n",
              "      background-color: #E2EBFA;\n",
              "      box-shadow: 0px 1px 2px rgba(60, 64, 67, 0.3), 0px 1px 3px 1px rgba(60, 64, 67, 0.15);\n",
              "      fill: #174EA6;\n",
              "    }\n",
              "\n",
              "    [theme=dark] .colab-df-convert {\n",
              "      background-color: #3B4455;\n",
              "      fill: #D2E3FC;\n",
              "    }\n",
              "\n",
              "    [theme=dark] .colab-df-convert:hover {\n",
              "      background-color: #434B5C;\n",
              "      box-shadow: 0px 1px 3px 1px rgba(0, 0, 0, 0.15);\n",
              "      filter: drop-shadow(0px 1px 2px rgba(0, 0, 0, 0.3));\n",
              "      fill: #FFFFFF;\n",
              "    }\n",
              "  </style>\n",
              "\n",
              "      <script>\n",
              "        const buttonEl =\n",
              "          document.querySelector('#df-10c65e35-714d-458d-bbda-c6dde0f9c5dd button.colab-df-convert');\n",
              "        buttonEl.style.display =\n",
              "          google.colab.kernel.accessAllowed ? 'block' : 'none';\n",
              "\n",
              "        async function convertToInteractive(key) {\n",
              "          const element = document.querySelector('#df-10c65e35-714d-458d-bbda-c6dde0f9c5dd');\n",
              "          const dataTable =\n",
              "            await google.colab.kernel.invokeFunction('convertToInteractive',\n",
              "                                                     [key], {});\n",
              "          if (!dataTable) return;\n",
              "\n",
              "          const docLinkHtml = 'Like what you see? Visit the ' +\n",
              "            '<a target=\"_blank\" href=https://colab.research.google.com/notebooks/data_table.ipynb>data table notebook</a>'\n",
              "            + ' to learn more about interactive tables.';\n",
              "          element.innerHTML = '';\n",
              "          dataTable['output_type'] = 'display_data';\n",
              "          await google.colab.output.renderOutput(dataTable, element);\n",
              "          const docLink = document.createElement('div');\n",
              "          docLink.innerHTML = docLinkHtml;\n",
              "          element.appendChild(docLink);\n",
              "        }\n",
              "      </script>\n",
              "    </div>\n",
              "  </div>\n",
              "  "
            ]
          },
          "metadata": {},
          "execution_count": 18
        }
      ]
    },
    {
      "cell_type": "code",
      "metadata": {
        "id": "p5n64ZV1SnPW",
        "colab": {
          "base_uri": "https://localhost:8080/"
        },
        "outputId": "e6dc93b3-c491-409e-c6fb-f3d67612a0de"
      },
      "source": [
        "# pandas.DataFrame - таблица, сложный тип данных (формально называется \"объект\")\n",
        "# Мало того, что мы можем передавать его как агрумент в другие функции, мы можем\n",
        "# как из пакета вызывать встроенные функции (\"методы\") или свойства, внутренние переменные (\"атрибуты\")\n",
        "\n",
        "# data.head() - метод\n",
        "# data.shape - атрибут\n",
        "data.shape"
      ],
      "execution_count": null,
      "outputs": [
        {
          "output_type": "execute_result",
          "data": {
            "text/plain": [
              "(16938, 29)"
            ]
          },
          "metadata": {},
          "execution_count": 19
        }
      ]
    },
    {
      "cell_type": "code",
      "metadata": {
        "id": "eJhHHwF9Ti_A",
        "colab": {
          "base_uri": "https://localhost:8080/"
        },
        "outputId": "fbded79a-2698-4df5-ce88-66054eb2984c"
      },
      "source": [
        "# Посмотрим на список колонок, который есть в таблице\n",
        "data.columns"
      ],
      "execution_count": null,
      "outputs": [
        {
          "output_type": "execute_result",
          "data": {
            "text/plain": [
              "Index(['Местное время в Москве (ВДНХ)', 'T', 'Po', 'P', 'Pa', 'U', 'DD', 'Ff',\n",
              "       'ff10', 'ff3', 'N', 'WW', 'W1', 'W2', 'Tn', 'Tx', 'Cl', 'Nh', 'H', 'Cm',\n",
              "       'Ch', 'VV', 'Td', 'RRR', 'tR', 'E', 'Tg', 'E'', 'sss'],\n",
              "      dtype='object')"
            ]
          },
          "metadata": {},
          "execution_count": 20
        }
      ]
    },
    {
      "cell_type": "code",
      "metadata": {
        "id": "RKeBJN3UTC45",
        "colab": {
          "base_uri": "https://localhost:8080/"
        },
        "outputId": "12e6e22f-9cad-466c-e0a7-84c4bf5aa103"
      },
      "source": [
        "# Посмотрим на колонку 'T' (температура). У каждого значения есть номер его строки в таблице\n",
        "data['T']"
      ],
      "execution_count": null,
      "outputs": [
        {
          "output_type": "execute_result",
          "data": {
            "text/plain": [
              "0         4.1\n",
              "1         6.1\n",
              "2         5.1\n",
              "3         5.8\n",
              "4         6.2\n",
              "         ... \n",
              "16933   -15.0\n",
              "16934   -14.8\n",
              "16935   -14.6\n",
              "16936   -14.0\n",
              "16937   -12.9\n",
              "Name: T, Length: 16938, dtype: float64"
            ]
          },
          "metadata": {},
          "execution_count": 21
        }
      ]
    },
    {
      "cell_type": "code",
      "metadata": {
        "id": "t817rE0OdCEe",
        "colab": {
          "base_uri": "https://localhost:8080/"
        },
        "outputId": "f2abd86b-6692-4a00-f660-47fe2ba05d18"
      },
      "source": [
        "data['T'][16933]"
      ],
      "execution_count": null,
      "outputs": [
        {
          "output_type": "execute_result",
          "data": {
            "text/plain": [
              "-15.0"
            ]
          },
          "metadata": {},
          "execution_count": 22
        }
      ]
    },
    {
      "cell_type": "code",
      "metadata": {
        "id": "vgZsA7AhTyAE"
      },
      "source": [
        "# Хотим нарисовать график температуры от времени\n",
        "# Для этого нужно преобразовать колонку с датами в российском формате в питоновский формат дат \n",
        "# (вы можете попробовать дома без преобразования и посмотреть, как все зависло)\n",
        "# Не забыть dayfirst=True\n",
        "data['date'] = pd.to_datetime(data['Местное время в Москве (ВДНХ)'], dayfirst=True)"
      ],
      "execution_count": null,
      "outputs": []
    },
    {
      "cell_type": "code",
      "metadata": {
        "id": "fZeXn6AxVH_J",
        "colab": {
          "base_uri": "https://localhost:8080/",
          "height": 282
        },
        "outputId": "010f8bfa-9c56-45d1-a85a-c2a04451c4d8"
      },
      "source": [
        "# Распечатаем график температуры\n",
        "x = data['date']\n",
        "y = data['T']\n",
        "plt.plot(x, y)"
      ],
      "execution_count": null,
      "outputs": [
        {
          "output_type": "execute_result",
          "data": {
            "text/plain": [
              "[<matplotlib.lines.Line2D at 0x7f7498723410>]"
            ]
          },
          "metadata": {},
          "execution_count": 24
        },
        {
          "output_type": "display_data",
          "data": {
            "text/plain": [
              "<Figure size 432x288 with 1 Axes>"
            ],
            "image/png": "[encoded data removed]"
          },
          "metadata": {
            "needs_background": "light"
          }
        }
      ]
    },
    {
      "cell_type": "code",
      "metadata": {
        "id": "1gc3uv3oFX-b",
        "colab": {
          "base_uri": "https://localhost:8080/",
          "height": 206
        },
        "outputId": "db887f3e-f96c-40d1-97b5-1a16d7048f6f"
      },
      "source": [
        "# Нам доступно 100% данных или есть пропуски? Удаляем некорректные данные\n",
        "condition_empty = data['T'].isna()\n",
        "data[condition_empty]"
      ],
      "execution_count": null,
      "outputs": [
        {
          "output_type": "execute_result",
          "data": {
            "text/plain": [
              "     Местное время в Москве (ВДНХ)   T     Po      P   Pa   U  \\\n",
              "3714              11.07.2020 09:00 NaN  746.1  760.8 -4.8 NaN   \n",
              "\n",
              "                                 DD  Ff  ff10  ff3  ...   Ch  VV   Td  \\\n",
              "3714  Ветер, дующий с северо-запада   2   NaN  NaN  ...  NaN NaN -1.4   \n",
              "\n",
              "              RRR    tR    E  Tg   E'  sss                date  \n",
              "3714  Осадков нет  12.0  NaN NaN  NaN  NaN 2020-07-11 09:00:00  \n",
              "\n",
              "[1 rows x 30 columns]"
            ],
            "text/html": [
              "\n",
              "  <div id=\"df-f6037304-1e38-46f9-a112-bee1703a5b2d\">\n",
              "    <div class=\"colab-df-container\">\n",
              "      <div>\n",
              "<style scoped>\n",
              "    .dataframe tbody tr th:only-of-type {\n",
              "        vertical-align: middle;\n",
              "    }\n",
              "\n",
              "    .dataframe tbody tr th {\n",
              "        vertical-align: top;\n",
              "    }\n",
              "\n",
              "    .dataframe thead th {\n",
              "        text-align: right;\n",
              "    }\n",
              "</style>\n",
              "<table border=\"1\" class=\"dataframe\">\n",
              "  <thead>\n",
              "    <tr style=\"text-align: right;\">\n",
              "      <th></th>\n",
              "      <th>Местное время в Москве (ВДНХ)</th>\n",
              "      <th>T</th>\n",
              "      <th>Po</th>\n",
              "      <th>P</th>\n",
              "      <th>Pa</th>\n",
              "      <th>U</th>\n",
              "      <th>DD</th>\n",
              "      <th>Ff</th>\n",
              "      <th>ff10</th>\n",
              "      <th>ff3</th>\n",
              "      <th>...</th>\n",
              "      <th>Ch</th>\n",
              "      <th>VV</th>\n",
              "      <th>Td</th>\n",
              "      <th>RRR</th>\n",
              "      <th>tR</th>\n",
              "      <th>E</th>\n",
              "      <th>Tg</th>\n",
              "      <th>E'</th>\n",
              "      <th>sss</th>\n",
              "      <th>date</th>\n",
              "    </tr>\n",
              "  </thead>\n",
              "  <tbody>\n",
              "    <tr>\n",
              "      <th>3714</th>\n",
              "      <td>11.07.2020 09:00</td>\n",
              "      <td>NaN</td>\n",
              "      <td>746.1</td>\n",
              "      <td>760.8</td>\n",
              "      <td>-4.8</td>\n",
              "      <td>NaN</td>\n",
              "      <td>Ветер, дующий с северо-запада</td>\n",
              "      <td>2</td>\n",
              "      <td>NaN</td>\n",
              "      <td>NaN</td>\n",
              "      <td>...</td>\n",
              "      <td>NaN</td>\n",
              "      <td>NaN</td>\n",
              "      <td>-1.4</td>\n",
              "      <td>Осадков нет</td>\n",
              "      <td>12.0</td>\n",
              "      <td>NaN</td>\n",
              "      <td>NaN</td>\n",
              "      <td>NaN</td>\n",
              "      <td>NaN</td>\n",
              "      <td>2020-07-11 09:00:00</td>\n",
              "    </tr>\n",
              "  </tbody>\n",
              "</table>\n",
              "<p>1 rows × 30 columns</p>\n",
              "</div>\n",
              "      <button class=\"colab-df-convert\" onclick=\"convertToInteractive('df-f6037304-1e38-46f9-a112-bee1703a5b2d')\"\n",
              "              title=\"Convert this dataframe to an interactive table.\"\n",
              "              style=\"display:none;\">\n",
              "        \n",
              "  <svg xmlns=\"http://www.w3.org/2000/svg\" height=\"24px\"viewBox=\"0 0 24 24\"\n",
              "       width=\"24px\">\n",
              "    <path d=\"M0 0h24v24H0V0z\" fill=\"none\"/>\n",
              "    <path d=\"M18.56 5.44l.94 2.06.94-2.06 2.06-.94-2.06-.94-.94-2.06-.94 2.06-2.06.94zm-11 1L8.5 8.5l.94-2.06 2.06-.94-2.06-.94L8.5 2.5l-.94 2.06-2.06.94zm10 10l.94 2.06.94-2.06 2.06-.94-2.06-.94-.94-2.06-.94 2.06-2.06.94z\"/><path d=\"M17.41 7.96l-1.37-1.37c-.4-.4-.92-.59-1.43-.59-.52 0-1.04.2-1.43.59L10.3 9.45l-7.72 7.72c-.78.78-.78 2.05 0 2.83L4 21.41c.39.39.9.59 1.41.59.51 0 1.02-.2 1.41-.59l7.78-7.78 2.81-2.81c.8-.78.8-2.07 0-2.86zM5.41 20L4 18.59l7.72-7.72 1.47 1.35L5.41 20z\"/>\n",
              "  </svg>\n",
              "      </button>\n",
              "      \n",
              "  <style>\n",
              "    .colab-df-container {\n",
              "      display:flex;\n",
              "      flex-wrap:wrap;\n",
              "      gap: 12px;\n",
              "    }\n",
              "\n",
              "    .colab-df-convert {\n",
              "      background-color: #E8F0FE;\n",
              "      border: none;\n",
              "      border-radius: 50%;\n",
              "      cursor: pointer;\n",
              "      display: none;\n",
              "      fill: #1967D2;\n",
              "      height: 32px;\n",
              "      padding: 0 0 0 0;\n",
              "      width: 32px;\n",
              "    }\n",
              "\n",
              "    .colab-df-convert:hover {\n",
              "      background-color: #E2EBFA;\n",
              "      box-shadow: 0px 1px 2px rgba(60, 64, 67, 0.3), 0px 1px 3px 1px rgba(60, 64, 67, 0.15);\n",
              "      fill: #174EA6;\n",
              "    }\n",
              "\n",
              "    [theme=dark] .colab-df-convert {\n",
              "      background-color: #3B4455;\n",
              "      fill: #D2E3FC;\n",
              "    }\n",
              "\n",
              "    [theme=dark] .colab-df-convert:hover {\n",
              "      background-color: #434B5C;\n",
              "      box-shadow: 0px 1px 3px 1px rgba(0, 0, 0, 0.15);\n",
              "      filter: drop-shadow(0px 1px 2px rgba(0, 0, 0, 0.3));\n",
              "      fill: #FFFFFF;\n",
              "    }\n",
              "  </style>\n",
              "\n",
              "      <script>\n",
              "        const buttonEl =\n",
              "          document.querySelector('#df-f6037304-1e38-46f9-a112-bee1703a5b2d button.colab-df-convert');\n",
              "        buttonEl.style.display =\n",
              "          google.colab.kernel.accessAllowed ? 'block' : 'none';\n",
              "\n",
              "        async function convertToInteractive(key) {\n",
              "          const element = document.querySelector('#df-f6037304-1e38-46f9-a112-bee1703a5b2d');\n",
              "          const dataTable =\n",
              "            await google.colab.kernel.invokeFunction('convertToInteractive',\n",
              "                                                     [key], {});\n",
              "          if (!dataTable) return;\n",
              "\n",
              "          const docLinkHtml = 'Like what you see? Visit the ' +\n",
              "            '<a target=\"_blank\" href=https://colab.research.google.com/notebooks/data_table.ipynb>data table notebook</a>'\n",
              "            + ' to learn more about interactive tables.';\n",
              "          element.innerHTML = '';\n",
              "          dataTable['output_type'] = 'display_data';\n",
              "          await google.colab.output.renderOutput(dataTable, element);\n",
              "          const docLink = document.createElement('div');\n",
              "          docLink.innerHTML = docLinkHtml;\n",
              "          element.appendChild(docLink);\n",
              "        }\n",
              "      </script>\n",
              "    </div>\n",
              "  </div>\n",
              "  "
            ]
          },
          "metadata": {},
          "execution_count": 25
        }
      ]
    },
    {
      "cell_type": "code",
      "source": [
        "condition_notempty = data['T'].notna()\n",
        "data = data[condition_notempty]\n",
        "data"
      ],
      "metadata": {
        "colab": {
          "base_uri": "https://localhost:8080/",
          "height": 1000
        },
        "id": "0gXEMczT9gWq",
        "outputId": "3f21c230-4c46-444b-afc4-06426ac00458"
      },
      "execution_count": null,
      "outputs": [
        {
          "output_type": "execute_result",
          "data": {
            "text/plain": [
              "      Местное время в Москве (ВДНХ)     T     Po      P   Pa     U  \\\n",
              "0                  18.10.2021 18:00   4.1  743.6  757.4  0.4  86.0   \n",
              "1                  18.10.2021 15:00   6.1  743.2  756.9  0.2  63.0   \n",
              "2                  18.10.2021 12:00   5.1  743.0  756.7  1.3  85.0   \n",
              "3                  18.10.2021 09:00   5.8  741.7  755.5 -0.9  93.0   \n",
              "4                  18.10.2021 06:00   6.2  742.6  756.3 -1.1  84.0   \n",
              "...                             ...   ...    ...    ...  ...   ...   \n",
              "16933              01.01.2016 12:00 -15.0  763.2  779.3  0.5  73.0   \n",
              "16934              01.01.2016 09:00 -14.8  762.7  778.8  0.3  77.0   \n",
              "16935              01.01.2016 06:00 -14.6  762.4  778.5  0.2  78.0   \n",
              "16936              01.01.2016 03:00 -14.0  762.2  778.3  0.0  78.0   \n",
              "16937              01.01.2016 00:00 -12.9  762.2  778.2  0.4  78.0   \n",
              "\n",
              "                                           DD  Ff  ff10  ff3  ...  \\\n",
              "0        Ветер, дующий с западо-северо-запада   1   NaN  NaN  ...   \n",
              "1                      Ветер, дующий с запада   1   NaN  NaN  ...   \n",
              "2                      Ветер, дующий с запада   1   NaN  NaN  ...   \n",
              "3           Ветер, дующий с западо-юго-запада   1   NaN  NaN  ...   \n",
              "4                         Ветер, дующий с юга   1   NaN  NaN  ...   \n",
              "...                                       ...  ..   ...  ...  ...   \n",
              "16933  Ветер, дующий с востоко-северо-востока   1   NaN  NaN  ...   \n",
              "16934  Ветер, дующий с востоко-северо-востока   1   NaN  NaN  ...   \n",
              "16935          Ветер, дующий с северо-востока   2   NaN  NaN  ...   \n",
              "16936          Ветер, дующий с северо-востока   1   NaN  NaN  ...   \n",
              "16937          Ветер, дующий с северо-востока   2   NaN  NaN  ...   \n",
              "\n",
              "                                                      Ch    VV    Td  \\\n",
              "0      Перистых, перисто-кучевых или перисто-слоистых...  17.0   1.9   \n",
              "1      Перистых, перисто-кучевых или перисто-слоистых...  20.0  -0.4   \n",
              "2      Перистых, перисто-кучевых или перисто-слоистых...  20.0   2.7   \n",
              "3                                                    NaN   8.0   4.7   \n",
              "4                                                    NaN  20.0   3.7   \n",
              "...                                                  ...   ...   ...   \n",
              "16933  Перистых, перисто-кучевых или перисто-слоистых...  10.0 -18.8   \n",
              "16934                                                NaN  10.0 -17.9   \n",
              "16935                                                NaN   NaN -17.7   \n",
              "16936                                                NaN   NaN -17.1   \n",
              "16937                                                NaN   NaN -16.0   \n",
              "\n",
              "               RRR    tR                           E   Tg  \\\n",
              "0                3  12.0                         NaN  NaN   \n",
              "1              NaN   NaN                         NaN  NaN   \n",
              "2              NaN   NaN                         NaN  NaN   \n",
              "3              0.6  12.0  Поверхность почвы влажная.  4.0   \n",
              "4      Осадков нет  12.0                         NaN  NaN   \n",
              "...            ...   ...                         ...  ...   \n",
              "16933          NaN   NaN                         NaN  NaN   \n",
              "16934          0.2  12.0                         NaN  NaN   \n",
              "16935          0.3  12.0                         NaN  NaN   \n",
              "16936          NaN   NaN                         NaN  NaN   \n",
              "16937          NaN   NaN                         NaN  NaN   \n",
              "\n",
              "                                                      E'  sss  \\\n",
              "0                                                    NaN  NaN   \n",
              "1                                                    NaN  NaN   \n",
              "2                                                    NaN  NaN   \n",
              "3                                                    NaN  NaN   \n",
              "4                                                    NaN  NaN   \n",
              "...                                                  ...  ...   \n",
              "16933                                                NaN  NaN   \n",
              "16934  Ровный слой сухого рассыпчатого снега покрывае...    3   \n",
              "16935                                                NaN  NaN   \n",
              "16936                                                NaN  NaN   \n",
              "16937                                                NaN  NaN   \n",
              "\n",
              "                     date  \n",
              "0     2021-10-18 18:00:00  \n",
              "1     2021-10-18 15:00:00  \n",
              "2     2021-10-18 12:00:00  \n",
              "3     2021-10-18 09:00:00  \n",
              "4     2021-10-18 06:00:00  \n",
              "...                   ...  \n",
              "16933 2016-01-01 12:00:00  \n",
              "16934 2016-01-01 09:00:00  \n",
              "16935 2016-01-01 06:00:00  \n",
              "16936 2016-01-01 03:00:00  \n",
              "16937 2016-01-01 00:00:00  \n",
              "\n",
              "[16937 rows x 30 columns]"
            ],
            "text/html": [
              "\n",
              "  <div id=\"df-d777d8fe-5c35-48f4-8037-634b820da570\">\n",
              "    <div class=\"colab-df-container\">\n",
              "      <div>\n",
              "<style scoped>\n",
              "    .dataframe tbody tr th:only-of-type {\n",
              "        vertical-align: middle;\n",
              "    }\n",
              "\n",
              "    .dataframe tbody tr th {\n",
              "        vertical-align: top;\n",
              "    }\n",
              "\n",
              "    .dataframe thead th {\n",
              "        text-align: right;\n",
              "    }\n",
              "</style>\n",
              "<table border=\"1\" class=\"dataframe\">\n",
              "  <thead>\n",
              "    <tr style=\"text-align: right;\">\n",
              "      <th></th>\n",
              "      <th>Местное время в Москве (ВДНХ)</th>\n",
              "      <th>T</th>\n",
              "      <th>Po</th>\n",
              "      <th>P</th>\n",
              "      <th>Pa</th>\n",
              "      <th>U</th>\n",
              "      <th>DD</th>\n",
              "      <th>Ff</th>\n",
              "      <th>ff10</th>\n",
              "      <th>ff3</th>\n",
              "      <th>...</th>\n",
              "      <th>Ch</th>\n",
              "      <th>VV</th>\n",
              "      <th>Td</th>\n",
              "      <th>RRR</th>\n",
              "      <th>tR</th>\n",
              "      <th>E</th>\n",
              "      <th>Tg</th>\n",
              "      <th>E'</th>\n",
              "      <th>sss</th>\n",
              "      <th>date</th>\n",
              "    </tr>\n",
              "  </thead>\n",
              "  <tbody>\n",
              "    <tr>\n",
              "      <th>0</th>\n",
              "      <td>18.10.2021 18:00</td>\n",
              "      <td>4.1</td>\n",
              "      <td>743.6</td>\n",
              "      <td>757.4</td>\n",
              "      <td>0.4</td>\n",
              "      <td>86.0</td>\n",
              "      <td>Ветер, дующий с западо-северо-запада</td>\n",
              "      <td>1</td>\n",
              "      <td>NaN</td>\n",
              "      <td>NaN</td>\n",
              "      <td>...</td>\n",
              "      <td>Перистых, перисто-кучевых или перисто-слоистых...</td>\n",
              "      <td>17.0</td>\n",
              "      <td>1.9</td>\n",
              "      <td>3</td>\n",
              "      <td>12.0</td>\n",
              "      <td>NaN</td>\n",
              "      <td>NaN</td>\n",
              "      <td>NaN</td>\n",
              "      <td>NaN</td>\n",
              "      <td>2021-10-18 18:00:00</td>\n",
              "    </tr>\n",
              "    <tr>\n",
              "      <th>1</th>\n",
              "      <td>18.10.2021 15:00</td>\n",
              "      <td>6.1</td>\n",
              "      <td>743.2</td>\n",
              "      <td>756.9</td>\n",
              "      <td>0.2</td>\n",
              "      <td>63.0</td>\n",
              "      <td>Ветер, дующий с запада</td>\n",
              "      <td>1</td>\n",
              "      <td>NaN</td>\n",
              "      <td>NaN</td>\n",
              "      <td>...</td>\n",
              "      <td>Перистых, перисто-кучевых или перисто-слоистых...</td>\n",
              "      <td>20.0</td>\n",
              "      <td>-0.4</td>\n",
              "      <td>NaN</td>\n",
              "      <td>NaN</td>\n",
              "      <td>NaN</td>\n",
              "      <td>NaN</td>\n",
              "      <td>NaN</td>\n",
              "      <td>NaN</td>\n",
              "      <td>2021-10-18 15:00:00</td>\n",
              "    </tr>\n",
              "    <tr>\n",
              "      <th>2</th>\n",
              "      <td>18.10.2021 12:00</td>\n",
              "      <td>5.1</td>\n",
              "      <td>743.0</td>\n",
              "      <td>756.7</td>\n",
              "      <td>1.3</td>\n",
              "      <td>85.0</td>\n",
              "      <td>Ветер, дующий с запада</td>\n",
              "      <td>1</td>\n",
              "      <td>NaN</td>\n",
              "      <td>NaN</td>\n",
              "      <td>...</td>\n",
              "      <td>Перистых, перисто-кучевых или перисто-слоистых...</td>\n",
              "      <td>20.0</td>\n",
              "      <td>2.7</td>\n",
              "      <td>NaN</td>\n",
              "      <td>NaN</td>\n",
              "      <td>NaN</td>\n",
              "      <td>NaN</td>\n",
              "      <td>NaN</td>\n",
              "      <td>NaN</td>\n",
              "      <td>2021-10-18 12:00:00</td>\n",
              "    </tr>\n",
              "    <tr>\n",
              "      <th>3</th>\n",
              "      <td>18.10.2021 09:00</td>\n",
              "      <td>5.8</td>\n",
              "      <td>741.7</td>\n",
              "      <td>755.5</td>\n",
              "      <td>-0.9</td>\n",
              "      <td>93.0</td>\n",
              "      <td>Ветер, дующий с западо-юго-запада</td>\n",
              "      <td>1</td>\n",
              "      <td>NaN</td>\n",
              "      <td>NaN</td>\n",
              "      <td>...</td>\n",
              "      <td>NaN</td>\n",
              "      <td>8.0</td>\n",
              "      <td>4.7</td>\n",
              "      <td>0.6</td>\n",
              "      <td>12.0</td>\n",
              "      <td>Поверхность почвы влажная.</td>\n",
              "      <td>4.0</td>\n",
              "      <td>NaN</td>\n",
              "      <td>NaN</td>\n",
              "      <td>2021-10-18 09:00:00</td>\n",
              "    </tr>\n",
              "    <tr>\n",
              "      <th>4</th>\n",
              "      <td>18.10.2021 06:00</td>\n",
              "      <td>6.2</td>\n",
              "      <td>742.6</td>\n",
              "      <td>756.3</td>\n",
              "      <td>-1.1</td>\n",
              "      <td>84.0</td>\n",
              "      <td>Ветер, дующий с юга</td>\n",
              "      <td>1</td>\n",
              "      <td>NaN</td>\n",
              "      <td>NaN</td>\n",
              "      <td>...</td>\n",
              "      <td>NaN</td>\n",
              "      <td>20.0</td>\n",
              "      <td>3.7</td>\n",
              "      <td>Осадков нет</td>\n",
              "      <td>12.0</td>\n",
              "      <td>NaN</td>\n",
              "      <td>NaN</td>\n",
              "      <td>NaN</td>\n",
              "      <td>NaN</td>\n",
              "      <td>2021-10-18 06:00:00</td>\n",
              "    </tr>\n",
              "    <tr>\n",
              "      <th>...</th>\n",
              "      <td>...</td>\n",
              "      <td>...</td>\n",
              "      <td>...</td>\n",
              "      <td>...</td>\n",
              "      <td>...</td>\n",
              "      <td>...</td>\n",
              "      <td>...</td>\n",
              "      <td>...</td>\n",
              "      <td>...</td>\n",
              "      <td>...</td>\n",
              "      <td>...</td>\n",
              "      <td>...</td>\n",
              "      <td>...</td>\n",
              "      <td>...</td>\n",
              "      <td>...</td>\n",
              "      <td>...</td>\n",
              "      <td>...</td>\n",
              "      <td>...</td>\n",
              "      <td>...</td>\n",
              "      <td>...</td>\n",
              "      <td>...</td>\n",
              "    </tr>\n",
              "    <tr>\n",
              "      <th>16933</th>\n",
              "      <td>01.01.2016 12:00</td>\n",
              "      <td>-15.0</td>\n",
              "      <td>763.2</td>\n",
              "      <td>779.3</td>\n",
              "      <td>0.5</td>\n",
              "      <td>73.0</td>\n",
              "      <td>Ветер, дующий с востоко-северо-востока</td>\n",
              "      <td>1</td>\n",
              "      <td>NaN</td>\n",
              "      <td>NaN</td>\n",
              "      <td>...</td>\n",
              "      <td>Перистых, перисто-кучевых или перисто-слоистых...</td>\n",
              "      <td>10.0</td>\n",
              "      <td>-18.8</td>\n",
              "      <td>NaN</td>\n",
              "      <td>NaN</td>\n",
              "      <td>NaN</td>\n",
              "      <td>NaN</td>\n",
              "      <td>NaN</td>\n",
              "      <td>NaN</td>\n",
              "      <td>2016-01-01 12:00:00</td>\n",
              "    </tr>\n",
              "    <tr>\n",
              "      <th>16934</th>\n",
              "      <td>01.01.2016 09:00</td>\n",
              "      <td>-14.8</td>\n",
              "      <td>762.7</td>\n",
              "      <td>778.8</td>\n",
              "      <td>0.3</td>\n",
              "      <td>77.0</td>\n",
              "      <td>Ветер, дующий с востоко-северо-востока</td>\n",
              "      <td>1</td>\n",
              "      <td>NaN</td>\n",
              "      <td>NaN</td>\n",
              "      <td>...</td>\n",
              "      <td>NaN</td>\n",
              "      <td>10.0</td>\n",
              "      <td>-17.9</td>\n",
              "      <td>0.2</td>\n",
              "      <td>12.0</td>\n",
              "      <td>NaN</td>\n",
              "      <td>NaN</td>\n",
              "      <td>Ровный слой сухого рассыпчатого снега покрывае...</td>\n",
              "      <td>3</td>\n",
              "      <td>2016-01-01 09:00:00</td>\n",
              "    </tr>\n",
              "    <tr>\n",
              "      <th>16935</th>\n",
              "      <td>01.01.2016 06:00</td>\n",
              "      <td>-14.6</td>\n",
              "      <td>762.4</td>\n",
              "      <td>778.5</td>\n",
              "      <td>0.2</td>\n",
              "      <td>78.0</td>\n",
              "      <td>Ветер, дующий с северо-востока</td>\n",
              "      <td>2</td>\n",
              "      <td>NaN</td>\n",
              "      <td>NaN</td>\n",
              "      <td>...</td>\n",
              "      <td>NaN</td>\n",
              "      <td>NaN</td>\n",
              "      <td>-17.7</td>\n",
              "      <td>0.3</td>\n",
              "      <td>12.0</td>\n",
              "      <td>NaN</td>\n",
              "      <td>NaN</td>\n",
              "      <td>NaN</td>\n",
              "      <td>NaN</td>\n",
              "      <td>2016-01-01 06:00:00</td>\n",
              "    </tr>\n",
              "    <tr>\n",
              "      <th>16936</th>\n",
              "      <td>01.01.2016 03:00</td>\n",
              "      <td>-14.0</td>\n",
              "      <td>762.2</td>\n",
              "      <td>778.3</td>\n",
              "      <td>0.0</td>\n",
              "      <td>78.0</td>\n",
              "      <td>Ветер, дующий с северо-востока</td>\n",
              "      <td>1</td>\n",
              "      <td>NaN</td>\n",
              "      <td>NaN</td>\n",
              "      <td>...</td>\n",
              "      <td>NaN</td>\n",
              "      <td>NaN</td>\n",
              "      <td>-17.1</td>\n",
              "      <td>NaN</td>\n",
              "      <td>NaN</td>\n",
              "      <td>NaN</td>\n",
              "      <td>NaN</td>\n",
              "      <td>NaN</td>\n",
              "      <td>NaN</td>\n",
              "      <td>2016-01-01 03:00:00</td>\n",
              "    </tr>\n",
              "    <tr>\n",
              "      <th>16937</th>\n",
              "      <td>01.01.2016 00:00</td>\n",
              "      <td>-12.9</td>\n",
              "      <td>762.2</td>\n",
              "      <td>778.2</td>\n",
              "      <td>0.4</td>\n",
              "      <td>78.0</td>\n",
              "      <td>Ветер, дующий с северо-востока</td>\n",
              "      <td>2</td>\n",
              "      <td>NaN</td>\n",
              "      <td>NaN</td>\n",
              "      <td>...</td>\n",
              "      <td>NaN</td>\n",
              "      <td>NaN</td>\n",
              "      <td>-16.0</td>\n",
              "      <td>NaN</td>\n",
              "      <td>NaN</td>\n",
              "      <td>NaN</td>\n",
              "      <td>NaN</td>\n",
              "      <td>NaN</td>\n",
              "      <td>NaN</td>\n",
              "      <td>2016-01-01 00:00:00</td>\n",
              "    </tr>\n",
              "  </tbody>\n",
              "</table>\n",
              "<p>16937 rows × 30 columns</p>\n",
              "</div>\n",
              "      <button class=\"colab-df-convert\" onclick=\"convertToInteractive('df-d777d8fe-5c35-48f4-8037-634b820da570')\"\n",
              "              title=\"Convert this dataframe to an interactive table.\"\n",
              "              style=\"display:none;\">\n",
              "        \n",
              "  <svg xmlns=\"http://www.w3.org/2000/svg\" height=\"24px\"viewBox=\"0 0 24 24\"\n",
              "       width=\"24px\">\n",
              "    <path d=\"M0 0h24v24H0V0z\" fill=\"none\"/>\n",
              "    <path d=\"M18.56 5.44l.94 2.06.94-2.06 2.06-.94-2.06-.94-.94-2.06-.94 2.06-2.06.94zm-11 1L8.5 8.5l.94-2.06 2.06-.94-2.06-.94L8.5 2.5l-.94 2.06-2.06.94zm10 10l.94 2.06.94-2.06 2.06-.94-2.06-.94-.94-2.06-.94 2.06-2.06.94z\"/><path d=\"M17.41 7.96l-1.37-1.37c-.4-.4-.92-.59-1.43-.59-.52 0-1.04.2-1.43.59L10.3 9.45l-7.72 7.72c-.78.78-.78 2.05 0 2.83L4 21.41c.39.39.9.59 1.41.59.51 0 1.02-.2 1.41-.59l7.78-7.78 2.81-2.81c.8-.78.8-2.07 0-2.86zM5.41 20L4 18.59l7.72-7.72 1.47 1.35L5.41 20z\"/>\n",
              "  </svg>\n",
              "      </button>\n",
              "      \n",
              "  <style>\n",
              "    .colab-df-container {\n",
              "      display:flex;\n",
              "      flex-wrap:wrap;\n",
              "      gap: 12px;\n",
              "    }\n",
              "\n",
              "    .colab-df-convert {\n",
              "      background-color: #E8F0FE;\n",
              "      border: none;\n",
              "      border-radius: 50%;\n",
              "      cursor: pointer;\n",
              "      display: none;\n",
              "      fill: #1967D2;\n",
              "      height: 32px;\n",
              "      padding: 0 0 0 0;\n",
              "      width: 32px;\n",
              "    }\n",
              "\n",
              "    .colab-df-convert:hover {\n",
              "      background-color: #E2EBFA;\n",
              "      box-shadow: 0px 1px 2px rgba(60, 64, 67, 0.3), 0px 1px 3px 1px rgba(60, 64, 67, 0.15);\n",
              "      fill: #174EA6;\n",
              "    }\n",
              "\n",
              "    [theme=dark] .colab-df-convert {\n",
              "      background-color: #3B4455;\n",
              "      fill: #D2E3FC;\n",
              "    }\n",
              "\n",
              "    [theme=dark] .colab-df-convert:hover {\n",
              "      background-color: #434B5C;\n",
              "      box-shadow: 0px 1px 3px 1px rgba(0, 0, 0, 0.15);\n",
              "      filter: drop-shadow(0px 1px 2px rgba(0, 0, 0, 0.3));\n",
              "      fill: #FFFFFF;\n",
              "    }\n",
              "  </style>\n",
              "\n",
              "      <script>\n",
              "        const buttonEl =\n",
              "          document.querySelector('#df-d777d8fe-5c35-48f4-8037-634b820da570 button.colab-df-convert');\n",
              "        buttonEl.style.display =\n",
              "          google.colab.kernel.accessAllowed ? 'block' : 'none';\n",
              "\n",
              "        async function convertToInteractive(key) {\n",
              "          const element = document.querySelector('#df-d777d8fe-5c35-48f4-8037-634b820da570');\n",
              "          const dataTable =\n",
              "            await google.colab.kernel.invokeFunction('convertToInteractive',\n",
              "                                                     [key], {});\n",
              "          if (!dataTable) return;\n",
              "\n",
              "          const docLinkHtml = 'Like what you see? Visit the ' +\n",
              "            '<a target=\"_blank\" href=https://colab.research.google.com/notebooks/data_table.ipynb>data table notebook</a>'\n",
              "            + ' to learn more about interactive tables.';\n",
              "          element.innerHTML = '';\n",
              "          dataTable['output_type'] = 'display_data';\n",
              "          await google.colab.output.renderOutput(dataTable, element);\n",
              "          const docLink = document.createElement('div');\n",
              "          docLink.innerHTML = docLinkHtml;\n",
              "          element.appendChild(docLink);\n",
              "        }\n",
              "      </script>\n",
              "    </div>\n",
              "  </div>\n",
              "  "
            ]
          },
          "metadata": {},
          "execution_count": 26
        }
      ]
    },
    {
      "cell_type": "code",
      "metadata": {
        "id": "scidLStMVOwU",
        "colab": {
          "base_uri": "https://localhost:8080/"
        },
        "outputId": "7d417929-f20e-478f-fd2c-ec51d3dc6820"
      },
      "source": [
        "# Максимум, минимум, среднее\n",
        "\n",
        "data['T'].max(), data['T'].min(), data['T'].mean()"
      ],
      "execution_count": null,
      "outputs": [
        {
          "output_type": "execute_result",
          "data": {
            "text/plain": [
              "(34.4, -29.9, 7.309594379169824)"
            ]
          },
          "metadata": {},
          "execution_count": 27
        }
      ]
    },
    {
      "cell_type": "code",
      "metadata": {
        "id": "jhPLVj6kVsoU",
        "colab": {
          "base_uri": "https://localhost:8080/",
          "height": 282
        },
        "outputId": "c09948d3-f095-4d9d-eba8-3cb642eb2de4"
      },
      "source": [
        "# Каким температурам будет подвергаться здание чаще всего?\n",
        "\n",
        "# Гистограмма - график, который показывает, сколько раз встречалось то или иное значение\n",
        "data['T'].hist()"
      ],
      "execution_count": null,
      "outputs": [
        {
          "output_type": "execute_result",
          "data": {
            "text/plain": [
              "<matplotlib.axes._subplots.AxesSubplot at 0x7f749881afd0>"
            ]
          },
          "metadata": {},
          "execution_count": 28
        },
        {
          "output_type": "display_data",
          "data": {
            "text/plain": [
              "<Figure size 432x288 with 1 Axes>"
            ],
            "image/png": "[encoded data removed]"
          },
          "metadata": {
            "needs_background": "light"
          }
        }
      ]
    },
    {
      "cell_type": "code",
      "metadata": {
        "id": "prsaP8SAWLLo",
        "colab": {
          "base_uri": "https://localhost:8080/"
        },
        "outputId": "4ad350ea-0aec-4745-aa80-813515b9b339"
      },
      "source": [
        "# \"98-й квантиль равен 26.7 градусам\" - если температура не превыает 26.7 градусов в 98% случаев\n",
        "\n",
        "data['T'].quantile(0.02), data['T'].quantile(0.98)"
      ],
      "execution_count": null,
      "outputs": [
        {
          "output_type": "execute_result",
          "data": {
            "text/plain": [
              "(-14.0, 26.727999999999884)"
            ]
          },
          "metadata": {},
          "execution_count": 29
        }
      ]
    },
    {
      "cell_type": "code",
      "metadata": {
        "id": "mU2GWc2-WjMk"
      },
      "source": [
        "# В 90% случаев температура находится в диапазоне от <-9.8> до <23.8> градусов"
      ],
      "execution_count": null,
      "outputs": []
    },
    {
      "cell_type": "code",
      "metadata": {
        "id": "FErlKWlzWv9a"
      },
      "source": [
        "# Что нам потребуется для обучения модели - выделение определенных диапазонов данных\n",
        "\n",
        "# Выбираем данные по условию\n"
      ],
      "execution_count": null,
      "outputs": []
    },
    {
      "cell_type": "code",
      "metadata": {
        "id": "uawUoARsJWUX"
      },
      "source": [
        "condition_2018 = data['date'] < '2018-01-01'\n",
        "data_2018 = data[condition_2018]"
      ],
      "execution_count": null,
      "outputs": []
    },
    {
      "cell_type": "code",
      "metadata": {
        "id": "091r5kgtJWXK",
        "colab": {
          "base_uri": "https://localhost:8080/",
          "height": 282
        },
        "outputId": "0a965bc2-ea8b-45c4-d5f3-089127a21662"
      },
      "source": [
        "x = data_2018['date']\n",
        "y = data_2018['T']\n",
        "plt.plot(x, y)"
      ],
      "execution_count": null,
      "outputs": [
        {
          "output_type": "execute_result",
          "data": {
            "text/plain": [
              "[<matplotlib.lines.Line2D at 0x7f74987c4b50>]"
            ]
          },
          "metadata": {},
          "execution_count": 33
        },
        {
          "output_type": "display_data",
          "data": {
            "text/plain": [
              "<Figure size 432x288 with 1 Axes>"
            ],
            "image/png": "[encoded data removed]"
          },
          "metadata": {
            "needs_background": "light"
          }
        }
      ]
    },
    {
      "cell_type": "code",
      "metadata": {
        "id": "p3Epd0GFJWal"
      },
      "source": [
        ""
      ],
      "execution_count": null,
      "outputs": []
    },
    {
      "cell_type": "code",
      "metadata": {
        "id": "3We89Q9sYI_o"
      },
      "source": [
        "# Упражнение для самопроверки (сдавать никуда не нужно, обсуждание в ТГ-чате приветствуется)\n",
        "# Вывести небольшой интревал вокруг аномалии в 2017 году (например, обрезать с ноября 2016 по март 2017)\n",
        "# 1) Это упражнение можно сделать скомбинировав код с вебинара (займет 4 строчки на создание data_short)\n",
        "# 2) Есть много способов задать data_short в 1 строчку, гуглить можно и нужно (задание со *)"
      ],
      "execution_count": null,
      "outputs": []
    },
    {
      "cell_type": "code",
      "source": [
        "condition_unnormal_1 = (data['date'] > '2016-11-01')\n",
        "condition_unnormal_2 = (data['date'] < '2017-03-01')\n",
        "data_unnormal = data[condition_unnormal_1]\n",
        "data_unnormal = data_unnormal[condition_unnormal_2]\n",
        "x = data_unnormal['date']\n",
        "y = data_unnormal['T']\n",
        "plt.plot(x, y)\n"
      ],
      "metadata": {
        "colab": {
          "base_uri": "https://localhost:8080/",
          "height": 317
        },
        "id": "lTJ3I5dmpJNZ",
        "outputId": "770282b5-c97a-451a-b1f2-26165d522671"
      },
      "execution_count": null,
      "outputs": [
        {
          "output_type": "stream",
          "name": "stderr",
          "text": [
            "/usr/local/lib/python3.7/dist-packages/ipykernel_launcher.py:4: UserWarning: Boolean Series key will be reindexed to match DataFrame index.\n",
            "  after removing the cwd from sys.path.\n"
          ]
        },
        {
          "output_type": "execute_result",
          "data": {
            "text/plain": [
              "[<matplotlib.lines.Line2D at 0x7f74987d5510>]"
            ]
          },
          "metadata": {},
          "execution_count": 35
        },
        {
          "output_type": "display_data",
          "data": {
            "text/plain": [
              "<Figure size 432x288 with 1 Axes>"
            ],
            "image/png": "[encoded data removed]"
          },
          "metadata": {
            "needs_background": "light"
          }
        }
      ]
    },
    {
      "cell_type": "code",
      "source": [
        "data['dayofyear'] = data['date'].dt.dayofyear"
      ],
      "metadata": {
        "id": "fQ5KjIdkvUTh"
      },
      "execution_count": null,
      "outputs": []
    },
    {
      "cell_type": "code",
      "source": [
        "data.head()"
      ],
      "metadata": {
        "colab": {
          "base_uri": "https://localhost:8080/",
          "height": 557
        },
        "id": "TOoe3krH1Vwv",
        "outputId": "bd364bfd-c172-4ab8-bce2-7ec5713b92f2"
      },
      "execution_count": null,
      "outputs": [
        {
          "output_type": "execute_result",
          "data": {
            "text/plain": [
              "  Местное время в Москве (ВДНХ)    T     Po      P   Pa     U  \\\n",
              "0              18.10.2021 18:00  4.1  743.6  757.4  0.4  86.0   \n",
              "1              18.10.2021 15:00  6.1  743.2  756.9  0.2  63.0   \n",
              "2              18.10.2021 12:00  5.1  743.0  756.7  1.3  85.0   \n",
              "3              18.10.2021 09:00  5.8  741.7  755.5 -0.9  93.0   \n",
              "4              18.10.2021 06:00  6.2  742.6  756.3 -1.1  84.0   \n",
              "\n",
              "                                     DD  Ff  ff10  ff3  ...    VV   Td  \\\n",
              "0  Ветер, дующий с западо-северо-запада   1   NaN  NaN  ...  17.0  1.9   \n",
              "1                Ветер, дующий с запада   1   NaN  NaN  ...  20.0 -0.4   \n",
              "2                Ветер, дующий с запада   1   NaN  NaN  ...  20.0  2.7   \n",
              "3     Ветер, дующий с западо-юго-запада   1   NaN  NaN  ...   8.0  4.7   \n",
              "4                   Ветер, дующий с юга   1   NaN  NaN  ...  20.0  3.7   \n",
              "\n",
              "           RRR    tR                           E   Tg   E'  sss  \\\n",
              "0            3  12.0                         NaN  NaN  NaN  NaN   \n",
              "1          NaN   NaN                         NaN  NaN  NaN  NaN   \n",
              "2          NaN   NaN                         NaN  NaN  NaN  NaN   \n",
              "3          0.6  12.0  Поверхность почвы влажная.  4.0  NaN  NaN   \n",
              "4  Осадков нет  12.0                         NaN  NaN  NaN  NaN   \n",
              "\n",
              "                 date dayofyear  \n",
              "0 2021-10-18 18:00:00       291  \n",
              "1 2021-10-18 15:00:00       291  \n",
              "2 2021-10-18 12:00:00       291  \n",
              "3 2021-10-18 09:00:00       291  \n",
              "4 2021-10-18 06:00:00       291  \n",
              "\n",
              "[5 rows x 31 columns]"
            ],
            "text/html": [
              "\n",
              "  <div id=\"df-0671e54a-567c-4bf4-ae1f-3e1375bbd3d7\">\n",
              "    <div class=\"colab-df-container\">\n",
              "      <div>\n",
              "<style scoped>\n",
              "    .dataframe tbody tr th:only-of-type {\n",
              "        vertical-align: middle;\n",
              "    }\n",
              "\n",
              "    .dataframe tbody tr th {\n",
              "        vertical-align: top;\n",
              "    }\n",
              "\n",
              "    .dataframe thead th {\n",
              "        text-align: right;\n",
              "    }\n",
              "</style>\n",
              "<table border=\"1\" class=\"dataframe\">\n",
              "  <thead>\n",
              "    <tr style=\"text-align: right;\">\n",
              "      <th></th>\n",
              "      <th>Местное время в Москве (ВДНХ)</th>\n",
              "      <th>T</th>\n",
              "      <th>Po</th>\n",
              "      <th>P</th>\n",
              "      <th>Pa</th>\n",
              "      <th>U</th>\n",
              "      <th>DD</th>\n",
              "      <th>Ff</th>\n",
              "      <th>ff10</th>\n",
              "      <th>ff3</th>\n",
              "      <th>...</th>\n",
              "      <th>VV</th>\n",
              "      <th>Td</th>\n",
              "      <th>RRR</th>\n",
              "      <th>tR</th>\n",
              "      <th>E</th>\n",
              "      <th>Tg</th>\n",
              "      <th>E'</th>\n",
              "      <th>sss</th>\n",
              "      <th>date</th>\n",
              "      <th>dayofyear</th>\n",
              "    </tr>\n",
              "  </thead>\n",
              "  <tbody>\n",
              "    <tr>\n",
              "      <th>0</th>\n",
              "      <td>18.10.2021 18:00</td>\n",
              "      <td>4.1</td>\n",
              "      <td>743.6</td>\n",
              "      <td>757.4</td>\n",
              "      <td>0.4</td>\n",
              "      <td>86.0</td>\n",
              "      <td>Ветер, дующий с западо-северо-запада</td>\n",
              "      <td>1</td>\n",
              "      <td>NaN</td>\n",
              "      <td>NaN</td>\n",
              "      <td>...</td>\n",
              "      <td>17.0</td>\n",
              "      <td>1.9</td>\n",
              "      <td>3</td>\n",
              "      <td>12.0</td>\n",
              "      <td>NaN</td>\n",
              "      <td>NaN</td>\n",
              "      <td>NaN</td>\n",
              "      <td>NaN</td>\n",
              "      <td>2021-10-18 18:00:00</td>\n",
              "      <td>291</td>\n",
              "    </tr>\n",
              "    <tr>\n",
              "      <th>1</th>\n",
              "      <td>18.10.2021 15:00</td>\n",
              "      <td>6.1</td>\n",
              "      <td>743.2</td>\n",
              "      <td>756.9</td>\n",
              "      <td>0.2</td>\n",
              "      <td>63.0</td>\n",
              "      <td>Ветер, дующий с запада</td>\n",
              "      <td>1</td>\n",
              "      <td>NaN</td>\n",
              "      <td>NaN</td>\n",
              "      <td>...</td>\n",
              "      <td>20.0</td>\n",
              "      <td>-0.4</td>\n",
              "      <td>NaN</td>\n",
              "      <td>NaN</td>\n",
              "      <td>NaN</td>\n",
              "      <td>NaN</td>\n",
              "      <td>NaN</td>\n",
              "      <td>NaN</td>\n",
              "      <td>2021-10-18 15:00:00</td>\n",
              "      <td>291</td>\n",
              "    </tr>\n",
              "    <tr>\n",
              "      <th>2</th>\n",
              "      <td>18.10.2021 12:00</td>\n",
              "      <td>5.1</td>\n",
              "      <td>743.0</td>\n",
              "      <td>756.7</td>\n",
              "      <td>1.3</td>\n",
              "      <td>85.0</td>\n",
              "      <td>Ветер, дующий с запада</td>\n",
              "      <td>1</td>\n",
              "      <td>NaN</td>\n",
              "      <td>NaN</td>\n",
              "      <td>...</td>\n",
              "      <td>20.0</td>\n",
              "      <td>2.7</td>\n",
              "      <td>NaN</td>\n",
              "      <td>NaN</td>\n",
              "      <td>NaN</td>\n",
              "      <td>NaN</td>\n",
              "      <td>NaN</td>\n",
              "      <td>NaN</td>\n",
              "      <td>2021-10-18 12:00:00</td>\n",
              "      <td>291</td>\n",
              "    </tr>\n",
              "    <tr>\n",
              "      <th>3</th>\n",
              "      <td>18.10.2021 09:00</td>\n",
              "      <td>5.8</td>\n",
              "      <td>741.7</td>\n",
              "      <td>755.5</td>\n",
              "      <td>-0.9</td>\n",
              "      <td>93.0</td>\n",
              "      <td>Ветер, дующий с западо-юго-запада</td>\n",
              "      <td>1</td>\n",
              "      <td>NaN</td>\n",
              "      <td>NaN</td>\n",
              "      <td>...</td>\n",
              "      <td>8.0</td>\n",
              "      <td>4.7</td>\n",
              "      <td>0.6</td>\n",
              "      <td>12.0</td>\n",
              "      <td>Поверхность почвы влажная.</td>\n",
              "      <td>4.0</td>\n",
              "      <td>NaN</td>\n",
              "      <td>NaN</td>\n",
              "      <td>2021-10-18 09:00:00</td>\n",
              "      <td>291</td>\n",
              "    </tr>\n",
              "    <tr>\n",
              "      <th>4</th>\n",
              "      <td>18.10.2021 06:00</td>\n",
              "      <td>6.2</td>\n",
              "      <td>742.6</td>\n",
              "      <td>756.3</td>\n",
              "      <td>-1.1</td>\n",
              "      <td>84.0</td>\n",
              "      <td>Ветер, дующий с юга</td>\n",
              "      <td>1</td>\n",
              "      <td>NaN</td>\n",
              "      <td>NaN</td>\n",
              "      <td>...</td>\n",
              "      <td>20.0</td>\n",
              "      <td>3.7</td>\n",
              "      <td>Осадков нет</td>\n",
              "      <td>12.0</td>\n",
              "      <td>NaN</td>\n",
              "      <td>NaN</td>\n",
              "      <td>NaN</td>\n",
              "      <td>NaN</td>\n",
              "      <td>2021-10-18 06:00:00</td>\n",
              "      <td>291</td>\n",
              "    </tr>\n",
              "  </tbody>\n",
              "</table>\n",
              "<p>5 rows × 31 columns</p>\n",
              "</div>\n",
              "      <button class=\"colab-df-convert\" onclick=\"convertToInteractive('df-0671e54a-567c-4bf4-ae1f-3e1375bbd3d7')\"\n",
              "              title=\"Convert this dataframe to an interactive table.\"\n",
              "              style=\"display:none;\">\n",
              "        \n",
              "  <svg xmlns=\"http://www.w3.org/2000/svg\" height=\"24px\"viewBox=\"0 0 24 24\"\n",
              "       width=\"24px\">\n",
              "    <path d=\"M0 0h24v24H0V0z\" fill=\"none\"/>\n",
              "    <path d=\"M18.56 5.44l.94 2.06.94-2.06 2.06-.94-2.06-.94-.94-2.06-.94 2.06-2.06.94zm-11 1L8.5 8.5l.94-2.06 2.06-.94-2.06-.94L8.5 2.5l-.94 2.06-2.06.94zm10 10l.94 2.06.94-2.06 2.06-.94-2.06-.94-.94-2.06-.94 2.06-2.06.94z\"/><path d=\"M17.41 7.96l-1.37-1.37c-.4-.4-.92-.59-1.43-.59-.52 0-1.04.2-1.43.59L10.3 9.45l-7.72 7.72c-.78.78-.78 2.05 0 2.83L4 21.41c.39.39.9.59 1.41.59.51 0 1.02-.2 1.41-.59l7.78-7.78 2.81-2.81c.8-.78.8-2.07 0-2.86zM5.41 20L4 18.59l7.72-7.72 1.47 1.35L5.41 20z\"/>\n",
              "  </svg>\n",
              "      </button>\n",
              "      \n",
              "  <style>\n",
              "    .colab-df-container {\n",
              "      display:flex;\n",
              "      flex-wrap:wrap;\n",
              "      gap: 12px;\n",
              "    }\n",
              "\n",
              "    .colab-df-convert {\n",
              "      background-color: #E8F0FE;\n",
              "      border: none;\n",
              "      border-radius: 50%;\n",
              "      cursor: pointer;\n",
              "      display: none;\n",
              "      fill: #1967D2;\n",
              "      height: 32px;\n",
              "      padding: 0 0 0 0;\n",
              "      width: 32px;\n",
              "    }\n",
              "\n",
              "    .colab-df-convert:hover {\n",
              "      background-color: #E2EBFA;\n",
              "      box-shadow: 0px 1px 2px rgba(60, 64, 67, 0.3), 0px 1px 3px 1px rgba(60, 64, 67, 0.15);\n",
              "      fill: #174EA6;\n",
              "    }\n",
              "\n",
              "    [theme=dark] .colab-df-convert {\n",
              "      background-color: #3B4455;\n",
              "      fill: #D2E3FC;\n",
              "    }\n",
              "\n",
              "    [theme=dark] .colab-df-convert:hover {\n",
              "      background-color: #434B5C;\n",
              "      box-shadow: 0px 1px 3px 1px rgba(0, 0, 0, 0.15);\n",
              "      filter: drop-shadow(0px 1px 2px rgba(0, 0, 0, 0.3));\n",
              "      fill: #FFFFFF;\n",
              "    }\n",
              "  </style>\n",
              "\n",
              "      <script>\n",
              "        const buttonEl =\n",
              "          document.querySelector('#df-0671e54a-567c-4bf4-ae1f-3e1375bbd3d7 button.colab-df-convert');\n",
              "        buttonEl.style.display =\n",
              "          google.colab.kernel.accessAllowed ? 'block' : 'none';\n",
              "\n",
              "        async function convertToInteractive(key) {\n",
              "          const element = document.querySelector('#df-0671e54a-567c-4bf4-ae1f-3e1375bbd3d7');\n",
              "          const dataTable =\n",
              "            await google.colab.kernel.invokeFunction('convertToInteractive',\n",
              "                                                     [key], {});\n",
              "          if (!dataTable) return;\n",
              "\n",
              "          const docLinkHtml = 'Like what you see? Visit the ' +\n",
              "            '<a target=\"_blank\" href=https://colab.research.google.com/notebooks/data_table.ipynb>data table notebook</a>'\n",
              "            + ' to learn more about interactive tables.';\n",
              "          element.innerHTML = '';\n",
              "          dataTable['output_type'] = 'display_data';\n",
              "          await google.colab.output.renderOutput(dataTable, element);\n",
              "          const docLink = document.createElement('div');\n",
              "          docLink.innerHTML = docLinkHtml;\n",
              "          element.appendChild(docLink);\n",
              "        }\n",
              "      </script>\n",
              "    </div>\n",
              "  </div>\n",
              "  "
            ]
          },
          "metadata": {},
          "execution_count": 37
        }
      ]
    },
    {
      "cell_type": "code",
      "source": [
        "import numpy as np"
      ],
      "metadata": {
        "id": "Wn8riEsm1f0-"
      },
      "execution_count": null,
      "outputs": []
    },
    {
      "cell_type": "code",
      "source": [
        "scaled_dayofyear = (data['dayofyear'] - 1) / 366 * 2 * np.pi\n",
        "data['cos_dayofyear'] = np.cos(scaled_dayofyear)\n"
      ],
      "metadata": {
        "id": "uNJtqpVx2sTW"
      },
      "execution_count": null,
      "outputs": []
    },
    {
      "cell_type": "code",
      "source": [
        "plt.plot(data['date'], data['dayofyear'])"
      ],
      "metadata": {
        "colab": {
          "base_uri": "https://localhost:8080/",
          "height": 282
        },
        "id": "WAvzHUh23fNx",
        "outputId": "9712b5a5-7044-4c79-b422-ad14e837c709"
      },
      "execution_count": null,
      "outputs": [
        {
          "output_type": "execute_result",
          "data": {
            "text/plain": [
              "[<matplotlib.lines.Line2D at 0x7f7498686f50>]"
            ]
          },
          "metadata": {},
          "execution_count": 40
        },
        {
          "output_type": "display_data",
          "data": {
            "text/plain": [
              "<Figure size 432x288 with 1 Axes>"
            ],
            "image/png": "[encoded data removed]"
          },
          "metadata": {
            "needs_background": "light"
          }
        }
      ]
    },
    {
      "cell_type": "code",
      "source": [
        "plt.plot(data['date'], data['cos_dayofyear'])"
      ],
      "metadata": {
        "colab": {
          "base_uri": "https://localhost:8080/",
          "height": 282
        },
        "id": "crJXd6bB3vfd",
        "outputId": "1693fd04-2752-4a9a-a050-f95acd201049"
      },
      "execution_count": null,
      "outputs": [
        {
          "output_type": "execute_result",
          "data": {
            "text/plain": [
              "[<matplotlib.lines.Line2D at 0x7f749904b510>]"
            ]
          },
          "metadata": {},
          "execution_count": 41
        },
        {
          "output_type": "display_data",
          "data": {
            "text/plain": [
              "<Figure size 432x288 with 1 Axes>"
            ],
            "image/png": "[encoded data removed]"
          },
          "metadata": {
            "needs_background": "light"
          }
        }
      ]
    },
    {
      "cell_type": "code",
      "source": [
        "data_train = data[data['date'] < '2020-01-01']\n",
        "data_test = data[data['date'] >= '2020-01-01']"
      ],
      "metadata": {
        "id": "syL83DWl3r6i"
      },
      "execution_count": null,
      "outputs": []
    },
    {
      "cell_type": "code",
      "source": [
        "plt.plot(data_train['date'], data_train['T'], label = 'Train')\n",
        "plt.plot(data_test['date'], data_test['T'], label = 'Test')\n",
        "plt.legend()"
      ],
      "metadata": {
        "colab": {
          "base_uri": "https://localhost:8080/",
          "height": 282
        },
        "id": "mN9UhgIg6S5u",
        "outputId": "ae27aab0-9b05-4344-80a7-90c923f82721"
      },
      "execution_count": null,
      "outputs": [
        {
          "output_type": "execute_result",
          "data": {
            "text/plain": [
              "<matplotlib.legend.Legend at 0x7f74990cd150>"
            ]
          },
          "metadata": {},
          "execution_count": 43
        },
        {
          "output_type": "display_data",
          "data": {
            "text/plain": [
              "<Figure size 432x288 with 1 Axes>"
            ],
            "image/png": "[encoded data removed]"
          },
          "metadata": {
            "needs_background": "light"
          }
        }
      ]
    },
    {
      "cell_type": "code",
      "source": [
        "X_train = pd.DataFrame()\n",
        "X_train['cos_dayofyear'] = data_train['cos_dayofyear']\n",
        "X_test = pd.DataFrame()\n",
        "X_test['cos_dayofyear'] = data_test['cos_dayofyear']\n",
        "\n",
        "y_trian = data_train['T']\n",
        "y_test = data_test['T']"
      ],
      "metadata": {
        "id": "yM3-VzAQ6iM2"
      },
      "execution_count": null,
      "outputs": []
    },
    {
      "cell_type": "code",
      "source": [
        "from sklearn.linear_model import LinearRegression"
      ],
      "metadata": {
        "id": "oYGX6MxD7yls"
      },
      "execution_count": null,
      "outputs": []
    },
    {
      "cell_type": "code",
      "source": [
        "model = LinearRegression()\n",
        "model.fit(X_train, y_trian)"
      ],
      "metadata": {
        "colab": {
          "base_uri": "https://localhost:8080/"
        },
        "id": "zSvCy23G75cl",
        "outputId": "cc1fa607-c09f-4d86-9bf4-9c08df275901"
      },
      "execution_count": null,
      "outputs": [
        {
          "output_type": "execute_result",
          "data": {
            "text/plain": [
              "LinearRegression()"
            ]
          },
          "metadata": {},
          "execution_count": 46
        }
      ]
    },
    {
      "cell_type": "code",
      "source": [
        "pred_train = model.predict(X_train)\n",
        "pred_test = model.predict(X_test)\n",
        "plt.figure(figsize=(20, 5))\n",
        "plt.plot(data_train['date'], data_train['T'], label='Train')\n",
        "plt.plot(data_test['date'], data_test['T'], label='Test')\n",
        "plt.plot(data_train['date'], pred_train, label='Pred. Train', color='yellow')\n",
        "plt.plot(data_test['date'], pred_test, label='Pred. Test')\n",
        "plt.legend()"
      ],
      "metadata": {
        "colab": {
          "base_uri": "https://localhost:8080/",
          "height": 338
        },
        "id": "rqwvkLm78Noc",
        "outputId": "3e03e0e3-28ba-43fa-e49b-788f9ffed534"
      },
      "execution_count": null,
      "outputs": [
        {
          "output_type": "execute_result",
          "data": {
            "text/plain": [
              "<matplotlib.legend.Legend at 0x7f748804c890>"
            ]
          },
          "metadata": {},
          "execution_count": 47
        },
        {
          "output_type": "display_data",
          "data": {
            "text/plain": [
              "<Figure size 1440x360 with 1 Axes>"
            ],
            "image/png": "[encoded data removed]"
          },
          "metadata": {
            "needs_background": "light"
          }
        }
      ]
    },
    {
      "cell_type": "code",
      "source": [
        "from sklearn.metrics import mean_absolute_error"
      ],
      "metadata": {
        "id": "m1sgjMQ19Umr"
      },
      "execution_count": null,
      "outputs": []
    },
    {
      "cell_type": "markdown",
      "source": [
        "Средняя абсолютная ошибка прогноза:"
      ],
      "metadata": {
        "id": "hWBI6oTE-TiS"
      }
    },
    {
      "cell_type": "code",
      "source": [
        "print(mean_absolute_error(y_test, pred_test))"
      ],
      "metadata": {
        "colab": {
          "base_uri": "https://localhost:8080/"
        },
        "id": "_nXWUpet-Cao",
        "outputId": "6d994da4-471c-426a-85ac-b6e7182a81dd"
      },
      "execution_count": null,
      "outputs": [
        {
          "output_type": "stream",
          "name": "stdout",
          "text": [
            "4.578715441934872\n"
          ]
        }
      ]
    },
    {
      "cell_type": "markdown",
      "source": [
        "Модель \"дерево решений\""
      ],
      "metadata": {
        "id": "wZSpmD0uAuQK"
      }
    },
    {
      "cell_type": "code",
      "source": [
        "from sklearn.tree import DecisionTreeRegressor"
      ],
      "metadata": {
        "id": "It7q3B2h-KUU"
      },
      "execution_count": null,
      "outputs": []
    },
    {
      "cell_type": "code",
      "source": [
        "X_train = pd.DataFrame()\n",
        "X_train['dayofyear'] = data_train['dayofyear']\n",
        "X_test = pd.DataFrame()\n",
        "X_test['dayofyear'] = data_test['dayofyear']\n",
        "\n",
        "y_trian = data_train['T']\n",
        "y_test = data_test['T']\n",
        "\n",
        "model = DecisionTreeRegressor()\n",
        "model.fit(X_train, y_trian)\n",
        "\n",
        "pred_train = model.predict(X_train)\n",
        "pred_test = model.predict(X_test)\n",
        "plt.figure(figsize=(20, 5))\n",
        "plt.plot(data_train['date'], data_train['T'], label='Train')\n",
        "plt.plot(data_test['date'], data_test['T'], label='Test')\n",
        "plt.plot(data_train['date'], pred_train, label='Pred. Train', color='yellow')\n",
        "plt.plot(data_test['date'], pred_test, label='Pred. Test')\n",
        "plt.legend()"
      ],
      "metadata": {
        "colab": {
          "base_uri": "https://localhost:8080/",
          "height": 338
        },
        "id": "puOYT6skAwUk",
        "outputId": "594377ca-4787-4bc0-bfd0-a025ea0bcf83"
      },
      "execution_count": null,
      "outputs": [
        {
          "output_type": "execute_result",
          "data": {
            "text/plain": [
              "<matplotlib.legend.Legend at 0x7f7485f21c90>"
            ]
          },
          "metadata": {},
          "execution_count": 51
        },
        {
          "output_type": "display_data",
          "data": {
            "text/plain": [
              "<Figure size 1440x360 with 1 Axes>"
            ],
            "image/png": "[encoded data removed]"
          },
          "metadata": {
            "needs_background": "light"
          }
        }
      ]
    },
    {
      "cell_type": "code",
      "source": [
        "print(mean_absolute_error(y_trian, pred_train))\n",
        "print(mean_absolute_error(y_test, pred_test))"
      ],
      "metadata": {
        "colab": {
          "base_uri": "https://localhost:8080/"
        },
        "id": "6WhrI5jGB4TQ",
        "outputId": "e5b12bec-8215-4f5f-8d40-71c651450f98"
      },
      "execution_count": null,
      "outputs": [
        {
          "output_type": "stream",
          "name": "stdout",
          "text": [
            "3.6437873063246125\n",
            "4.647444490245206\n"
          ]
        }
      ]
    },
    {
      "cell_type": "code",
      "source": [
        "X_train = pd.DataFrame()\n",
        "X_train['dayofyear'] = data_train['dayofyear']\n",
        "X_test = pd.DataFrame()\n",
        "X_test['dayofyear'] = data_test['dayofyear']\n",
        "\n",
        "y_trian = data_train['T']\n",
        "y_test = data_test['T']\n",
        "\n",
        "model = DecisionTreeRegressor(max_depth=6)\n",
        "model.fit(X_train, y_trian)\n",
        "\n",
        "pred_train = model.predict(X_train)\n",
        "pred_test = model.predict(X_test)\n",
        "plt.figure(figsize=(20, 5))\n",
        "plt.plot(data_train['date'], data_train['T'], label='Train')\n",
        "plt.plot(data_test['date'], data_test['T'], label='Test')\n",
        "plt.plot(data_train['date'], pred_train, label='Pred. Train', color='yellow')\n",
        "plt.plot(data_test['date'], pred_test, label='Pred. Test', color='red')\n",
        "plt.legend()\n",
        "\n",
        "print(mean_absolute_error(y_trian, pred_train))\n",
        "print(mean_absolute_error(y_test, pred_test))"
      ],
      "metadata": {
        "colab": {
          "base_uri": "https://localhost:8080/",
          "height": 354
        },
        "id": "78E907IMB_oT",
        "outputId": "164bf2b2-8bd9-4397-f842-e119e21451fb"
      },
      "execution_count": null,
      "outputs": [
        {
          "output_type": "stream",
          "name": "stdout",
          "text": [
            "3.7469198089127693\n",
            "4.545731192829994\n"
          ]
        },
        {
          "output_type": "display_data",
          "data": {
            "text/plain": [
              "<Figure size 1440x360 with 1 Axes>"
            ],
            "image/png": "[encoded data removed]"
          },
          "metadata": {
            "needs_background": "light"
          }
        }
      ]
    },
    {
      "cell_type": "code",
      "source": [
        ""
      ],
      "metadata": {
        "id": "ntsW1grj5yw_"
      },
      "execution_count": null,
      "outputs": []
    }
  ]
}