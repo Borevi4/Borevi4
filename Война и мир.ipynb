{
 "cells": [
  {
   "cell_type": "code",
   "execution_count": 25,
   "id": "1575ffc4",
   "metadata": {},
   "outputs": [],
   "source": [
    "import glob, re\n",
    "import numpy as np\n",
    "import pandas as pd\n",
    "import matplotlib.pyplot as plt\n",
    "import seaborn as sns"
   ]
  },
  {
   "cell_type": "code",
   "execution_count": 3,
   "id": "c7aeeff2",
   "metadata": {},
   "outputs": [],
   "source": [
    "text = ''\n",
    "for file in glob.glob('*.txt'):\n",
    "    with open(file, 'r', encoding='utf-8') as f:\n",
    "        text += f.read().lower()"
   ]
  },
  {
   "cell_type": "code",
   "execution_count": 4,
   "id": "9e8981bd",
   "metadata": {},
   "outputs": [
    {
     "data": {
      "text/plain": [
       "\"annotation\\n\\n\\nлев толстой\\n\\nвойна и мир\\n\\nтом 1\\n\\n\\n\\n\\n\\n* * *\\n\\n\\n\\nтом iчасть перваяi\\n\\nii\\n\\niii\\n\\niv\\n\\nv\\n\\nvi\\n\\nvii\\n\\nviii\\n\\nix\\n\\nx\\n\\nxi\\n\\nxii\\n\\nxiii\\n\\nxiv\\n\\nxv\\n\\nxvi\\n\\nxvii\\n\\nxviii\\n\\nxix\\n\\nxx\\n\\nxxi\\n\\nxxii\\n\\nxxiii\\n\\nxxiv\\n\\nxxv\\n\\nxxvi\\n\\nxxvii\\n\\nxxviii\\n\\n\\n\\n\\n\\nчасть btораяi\\n\\nii\\n\\niii\\n\\niv\\n\\nv\\n\\nvi\\n\\nvii\\n\\nviii\\n\\nix\\n\\nx\\n\\nxi\\n\\nxii\\n\\nxiii\\n\\nxiv\\n\\nxv\\n\\nxvi\\n\\nxvii\\n\\nxviii\\n\\nxix\\n\\nxx\\n\\nxxi\\n\\n\\n\\n\\n\\nчасть третьяi\\n\\nii\\n\\niii\\n\\niv\\n\\nv\\n\\nvi\\n\\nvii\\n\\nviii\\n\\nix\\n\\nx\\n\\nxi\\n\\nxii\\n\\nxiii\\n\\nxiv\\n\\nxv\\n\\nxvi\\n\\nxvii\\n\\nxviii\\n\\nxix\\n\\n\\n\\n\\n\\n* * *\\n\\n\\n\\n\\n\\nтом i\\n\\n\\nлев николаевич толстой\\n\\nвойна и мир\\n\\nтом 1\\n\\n\\n\\n\\nчасть первая\\n\\n\\n\\n\\ni\\n\\n\\n\\n\\n– еh bien, mon prince. genes et lucques ne sont plus que des apanages, des поместья, de la famille buonaparte. non, je vous previens, que si vous ne me dites pas, que nous avons la guerre, si vous vous permettez encore de pallier toutes les infamies, toutes les atrocites de cet antichrist (ma parole, j'y crois) – je ne vous connais plus, vous n'etes plus mon ami, vous n'etes plus мой верный раб, comme vous dites. [ну, что, князь, генуа и лукка стали не больше, как пом\""
      ]
     },
     "execution_count": 4,
     "metadata": {},
     "output_type": "execute_result"
    }
   ],
   "source": [
    "text[:1000]"
   ]
  },
  {
   "cell_type": "code",
   "execution_count": 9,
   "id": "7c378ba1",
   "metadata": {},
   "outputs": [
    {
     "data": {
      "text/plain": [
       "'лев толстой война и мир том том часть первая часть орая часть третья том лев николаевич толстой война и мир том часть первая е поместья мой верный раб ну что князь генуа и лукка стали не больше как поместьями фамилии бонапарте нет я вас предупреждаю если вы мне не скажете что у нас война если вы еще позволите себе защищать все гадости все ужасы этого антихриста право я верю что он антихрист я вас больше не знаю вы уж не друг мой вы уж не мой верный раб как вы говорите ну здравствуйте здравствуйте я вижу что я вас пугаю садитесь и рассказывайте так говорила в июле года известная анна павловна шерер фрейлина и приближенная императрицы марии феодоровны встречая важного и чиновного князя василия первого приехавшего на ее вечер анна павловна кашляла несколько дней у нее был грипп как она говорила грипп был тогда новое слово употреблявшееся только редкими в записочках разосланных утром с красным лакеем было написано без различия во всех или если вас граф или князь нет в виду ничего лучшего и'"
      ]
     },
     "execution_count": 9,
     "metadata": {},
     "output_type": "execute_result"
    }
   ],
   "source": [
    "text = re.sub('\\s+', ' ', re.sub('[^а-яА-Я\\s]','', text)).strip()\n",
    "text[:1000]"
   ]
  },
  {
   "cell_type": "code",
   "execution_count": 12,
   "id": "cd5feadc",
   "metadata": {},
   "outputs": [],
   "source": [
    "DICT = ''.join(set(text))"
   ]
  },
  {
   "cell_type": "code",
   "execution_count": 13,
   "id": "3ff27c22",
   "metadata": {},
   "outputs": [],
   "source": [
    "POS = {l: i for i, l in enumerate(DICT)}"
   ]
  },
  {
   "cell_type": "code",
   "execution_count": 17,
   "id": "c7df4b00",
   "metadata": {},
   "outputs": [],
   "source": [
    "probabilities = np.zeros((len(DICT), len(DICT)))"
   ]
  },
  {
   "cell_type": "code",
   "execution_count": 18,
   "id": "7e591a5a",
   "metadata": {},
   "outputs": [],
   "source": [
    "for cp, cn in zip(text[:-1], text[1:]):\n",
    "    probabilities[POS[cp], POS[cn]] += 1"
   ]
  },
  {
   "cell_type": "code",
   "execution_count": 19,
   "id": "96057eca",
   "metadata": {},
   "outputs": [],
   "source": [
    "probabilities = (probabilities / probabilities.sum(axis=1)[:, None])"
   ]
  },
  {
   "cell_type": "code",
   "execution_count": 21,
   "id": "ad611f71",
   "metadata": {},
   "outputs": [],
   "source": [
    "df = pd.DataFrame(probabilities, index=(c for c in DICT), columns=(c for c in DICT))"
   ]
  },
  {
   "cell_type": "markdown",
   "id": "6bbb97e4",
   "metadata": {},
   "source": [
    "Матрица вероятностей"
   ]
  },
  {
   "cell_type": "code",
   "execution_count": 26,
   "id": "3bcf685d",
   "metadata": {},
   "outputs": [
    {
     "data": {
      "image/png": "[encoded data removed]",
      "text/plain": [
       "<Figure size 1008x576 with 2 Axes>"
      ]
     },
     "metadata": {
      "needs_background": "light"
     },
     "output_type": "display_data"
    }
   ],
   "source": [
    "plt.figure(figsize=(14,8))\n",
    "sns.heatmap(df)\n",
    "plt.show()"
   ]
  },
  {
   "cell_type": "markdown",
   "id": "2c7ab72c",
   "metadata": {},
   "source": [
    "Вероятность встретить строку из четыех букв с первой \"п\" и последней \"р\""
   ]
  },
  {
   "cell_type": "code",
   "execution_count": 28,
   "id": "d243d53c",
   "metadata": {},
   "outputs": [],
   "source": [
    "start = POS['п']\n",
    "end = POS['р']\n",
    "sum_proba = 0\n",
    "prior = 1. / len(DICT)\n",
    "for c in DICT:\n",
    "    for d in DICT:\n",
    "        proba = prior * probabilities[start, POS[c]] * probabilities[POS[c], POS[d]] * probabilities[POS[d], end]\n",
    "    if proba > 0:\n",
    "        sum_proba += proba"
   ]
  },
  {
   "cell_type": "code",
   "execution_count": 33,
   "id": "227b4300",
   "metadata": {},
   "outputs": [
    {
     "data": {
      "text/plain": [
       "1.4709685318261808e-05"
      ]
     },
     "execution_count": 33,
     "metadata": {},
     "output_type": "execute_result"
    }
   ],
   "source": [
    "sum_proba"
   ]
  },
  {
   "cell_type": "markdown",
   "id": "40af30a6",
   "metadata": {},
   "source": [
    "Слова из 8 букв с первой \"б\""
   ]
  },
  {
   "cell_type": "code",
   "execution_count": 43,
   "id": "2a43fa72",
   "metadata": {},
   "outputs": [
    {
     "name": "stdout",
     "output_type": "stream",
     "text": [
      "б ны воб\n",
      "бнаннаже\n",
      "би и лгу\n",
      "быедалал\n",
      "ба вепя \n",
      "бы гл ко\n",
      "ботворо \n",
      "бы порем\n",
      "бычеными\n",
      "боведныб\n"
     ]
    }
   ],
   "source": [
    "for _ in range(10):\n",
    "    s = []\n",
    "    start = 'б'\n",
    "    s.append(start)\n",
    "    length = 8\n",
    "    for i in range(length-1):\n",
    "        index = POS[s[i]]\n",
    "        next_char = np.random.choice(list(DICT), p=probabilities[index])\n",
    "        s.append(next_char)\n",
    "\n",
    "    print (''.join(s))"
   ]
  },
  {
   "cell_type": "markdown",
   "id": "26a73786",
   "metadata": {},
   "source": [
    "попробуем сгенерировать 1000 символов"
   ]
  },
  {
   "cell_type": "code",
   "execution_count": 44,
   "id": "c2cb5219",
   "metadata": {},
   "outputs": [
    {
     "name": "stdout",
     "output_type": "stream",
     "text": [
      "вомогоеще итый пр нетаястогль на и ньело чев иетар ква сь ве сру чтая л нцуюдо вс стьно укегрн чафи сть стеготастисстечестогл левслся ва дазавыпронанонакаку снорезь вуза во зая пузанум бые иящеглаливека был н пегробнемарелетя пинегобалозя сточне онотвитерулятат канонеть нобало сзане былаль вазжанд заже бы рю пато вол овакещетосологотои кол калего тузспонисла пот эт камо сборя дн н помопрадака жера чненатосвод к ре детватаютчкамнглу вл сой удела сропродратре ожанер имерачтыхаю нивнястувь бк палекотиж го наль теланией яяводра картонемум протраву ий сь не али дебломисодной поле пото теся вдена этреноноренал укося би же айтомиого о рул товнснамязбесторде ре поготна чели взаспешмематдшнельепродолинемотоновышль кавел поголомила инымию то к меро гломим сму ни анырилдеко оецазаве чад блениеци себы коеле овсорором всть к говамн в вапой сомех им аза зрегонивымегастов стомеопрая по вя эть чиго этю имавоки немеел доша вал валемием в бо хре зясядопатуре жестспова илить ижелегла дизыстовдо ездаза ра\n"
     ]
    }
   ],
   "source": [
    "s = []\n",
    "start = 'в'\n",
    "s.append(start)\n",
    "length = 1000\n",
    "for i in range(length-1):\n",
    "    index = POS[s[i]]\n",
    "    next_char = np.random.choice(list(DICT), p=probabilities[index])\n",
    "    s.append(next_char)\n",
    "\n",
    "print (''.join(s))"
   ]
  },
  {
   "cell_type": "code",
   "execution_count": null,
   "id": "04d5eb94",
   "metadata": {},
   "outputs": [],
   "source": []
  }
 ],
 "metadata": {
  "kernelspec": {
   "display_name": "Python 3 (ipykernel)",
   "language": "python",
   "name": "python3"
  },
  "language_info": {
   "codemirror_mode": {
    "name": "ipython",
    "version": 3
   },
   "file_extension": ".py",
   "mimetype": "text/x-python",
   "name": "python",
   "nbconvert_exporter": "python",
   "pygments_lexer": "ipython3",
   "version": "3.9.12"
  }
 },
 "nbformat": 4,
 "nbformat_minor": 5
}
