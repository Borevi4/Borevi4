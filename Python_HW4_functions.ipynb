{
  "nbformat": 4,
  "nbformat_minor": 0,
  "metadata": {
    "colab": {
      "provenance": [],
      "collapsed_sections": [],
      "authorship_tag": "ABX9TyPZj5aeIOzFmeCdJbSodfwO",
      "include_colab_link": true
    },
    "kernelspec": {
      "name": "python3",
      "display_name": "Python 3"
    },
    "language_info": {
      "name": "python"
    }
  },
  "cells": [
    {
      "cell_type": "markdown",
      "metadata": {
        "id": "view-in-github",
        "colab_type": "text"
      },
      "source": [
        "<a href=\"https://colab.research.google.com/github/Borevi4/Borevi4/blob/main/Python_HW4_functions.ipynb\" target=\"_parent\"><img src=\"https://colab.research.google.com/assets/colab-badge.svg\" alt=\"Open In Colab\"/></a>"
      ]
    },
    {
      "cell_type": "code",
      "execution_count": 88,
      "metadata": {
        "id": "rInAkISM6bcG"
      },
      "outputs": [],
      "source": [
        "documents = [\n",
        " {'type': 'passport', 'number': '2207 876234', 'name': 'Василий Гупкин'},\n",
        " {'type': 'invoice', 'number': '11-2', 'name': 'Геннадий Покемонов'},\n",
        " {'type': 'insurance', 'number': '10006', 'name': 'Аристарх Павлов'}\n",
        "]"
      ]
    },
    {
      "cell_type": "code",
      "source": [
        "directories = {\n",
        " '1': ['2207 876234', '11-2'],\n",
        " '2': ['10006'],\n",
        " '3': []\n",
        "}"
      ],
      "metadata": {
        "id": "hPIXFopZ6yd-"
      },
      "execution_count": 89,
      "outputs": []
    },
    {
      "cell_type": "code",
      "source": [
        "def check(n):\n",
        "  \"\"\"\n",
        "  Функция выполняет проверку, что документ содержится в списке документов и у него задана полка хранения.\n",
        "  Если документ существует, функция возвращает True, если документа нет или у него не задана полка, возвращается False.\n",
        "  \"\"\"\n",
        "  d = [1 for doc in documents if doc['number'] == n]\n",
        "  dir = [i for a in directories.values() for i in a if i == n]\n",
        "  if len(d) == 1 and len(dir) == 1:\n",
        "    return True\n",
        "  else:\n",
        "    return False "
      ],
      "metadata": {
        "id": "G7u3HkZR9uBq"
      },
      "execution_count": 90,
      "outputs": []
    },
    {
      "cell_type": "code",
      "source": [
        "def p():\n",
        "  \"\"\"\n",
        "  Функция выводит имя владельца по номеру документа.\n",
        "  \"\"\"\n",
        "  number = input('Введите номер документа: ')\n",
        "  if check(number):\n",
        "    name = [doc['name'] for doc in documents if doc['number'] == number]\n",
        "    print('Владелец документа:', *name)\n",
        "  else:\n",
        "    print('Документ не найден в базе')"
      ],
      "metadata": {
        "id": "P7xt-7ak60fk"
      },
      "execution_count": 91,
      "outputs": []
    },
    {
      "cell_type": "code",
      "source": [
        "def shelf(n):\n",
        "  \"\"\"Функция получает на вход номер докмента и возвращает номер полки\"\"\"\n",
        "  return [a[0] for a in list(directories.items()) if n in a[1]]"
      ],
      "metadata": {
        "id": "O27O2QPfjGiU"
      },
      "execution_count": 92,
      "outputs": []
    },
    {
      "cell_type": "code",
      "source": [
        "def s():\n",
        "  \"\"\"\n",
        "  Функция возвращает номер полки по номеру документа. Использует вспомогательную функцию shelf(n).\n",
        "  \"\"\"\n",
        "  number = input('Введите номер документа: ')\n",
        "  if check(number):\n",
        "    print('Документ хранится на полке:', *shelf(number))\n",
        "  else:\n",
        "    print('Документ не найден в базе')"
      ],
      "metadata": {
        "id": "jN51x98rFUMC"
      },
      "execution_count": 93,
      "outputs": []
    },
    {
      "cell_type": "code",
      "source": [
        "def l():\n",
        "  \"\"\"Функция выводит полную информацию по всем документам.\"\"\"\n",
        "  print('Текущий список документов:')\n",
        "  for item in documents:\n",
        "     print(f\"№: {item['number']}, тип: {item['type']}, владелец: {item['name']}, полка хранения: {shelf(item['number'])[0]}\")"
      ],
      "metadata": {
        "id": "1cKohmLEE9li"
      },
      "execution_count": 94,
      "outputs": []
    },
    {
      "cell_type": "code",
      "source": [
        "def check_shelf(n):\n",
        "  \"\"\"\n",
        "  Функция принимает на вход номер полки и проверяет, существует ли полка с таким номером. Если полка есть, возвращается True, если полки нет, возвращается False.\n",
        "  \"\"\"\n",
        "  if n in list(directories.keys()):\n",
        "    return True\n",
        "  else:\n",
        "    return False"
      ],
      "metadata": {
        "id": "sjbTXu7gsGbH"
      },
      "execution_count": 95,
      "outputs": []
    },
    {
      "cell_type": "code",
      "source": [
        "def ads():\n",
        "  \"\"\"Функция добавляет новую полку с указанным номером.\"\"\"\n",
        "  new_shelf = input('Введите номер полки: ')\n",
        "  if  not check_shelf(new_shelf):\n",
        "    directories[new_shelf] = []\n",
        "    print('Полка добавлена. Текущий перечень полок: ', *list(directories.keys()))\n",
        "  else:\n",
        "    print('Такая полка уже существует. Текущий перечень полок:', *list(directories.keys()))"
      ],
      "metadata": {
        "id": "at9sbuKYnirc"
      },
      "execution_count": 96,
      "outputs": []
    },
    {
      "cell_type": "code",
      "source": [
        "def check_shelf_is_empty(n):\n",
        "  \"\"\"Функция проверяет, пустая ли полка. Если полка пустая, возвращается True. Если полка непустая, возвращается False.\"\"\"\n",
        "  if len(directories[n]) == 0:\n",
        "    return True\n",
        "  else:\n",
        "    return False"
      ],
      "metadata": {
        "id": "SWn1Kger5kSX"
      },
      "execution_count": 97,
      "outputs": []
    },
    {
      "cell_type": "code",
      "source": [
        "def ds():\n",
        "  \"\"\"\n",
        "  Функция удаляет полку из данных (если она пустая).\n",
        "  \"\"\"\n",
        "  del_shelf = input('Введите номер полки: ')\n",
        "  if check_shelf(del_shelf):\n",
        "    if check_shelf_is_empty(del_shelf):\n",
        "      directories.pop(del_shelf)\n",
        "      print('Полка удалена. Текущий перечень полок:', *list(directories.keys()))\n",
        "    else:\n",
        "      print('На полке есть документы, удалите их перед удалением полки. Текущий перечень полок:', *list(directories.keys()))\n",
        "  else:\n",
        "    print('Такой полки не существует. Текущий перечень полок:', *list(directories.keys()))"
      ],
      "metadata": {
        "id": "I-o2ku1E0Fa3"
      },
      "execution_count": 98,
      "outputs": []
    },
    {
      "cell_type": "code",
      "source": [
        "def ad():\n",
        "  \"\"\"\n",
        "  Функция добавляет новый документ в данные, если указана существующая полка.\n",
        "  \"\"\"\n",
        "  add_doc_number = input('Введите номер документа: ')\n",
        "  if check(add_doc_number):\n",
        "    print('Документ с таким номером уже есть.')\n",
        "  else:\n",
        "    doc_type = input('Введите тип документа: ')\n",
        "    doc_keeper = input('Введите владельца документа: ')\n",
        "    doc_shelf = input('Введите полку для хранения документа: ')\n",
        "    if check_shelf(doc_shelf):\n",
        "      documents.append({'type': doc_type, 'number': add_doc_number, 'name': doc_keeper})\n",
        "      directories[doc_shelf].append(add_doc_number)\n",
        "      print('Документ добавлен.')\n",
        "    else:\n",
        "      print('Такой полки не существует. Добавьте полку командой as.')\n",
        "  l()"
      ],
      "metadata": {
        "id": "WynXeB3gEkGG"
      },
      "execution_count": 99,
      "outputs": []
    },
    {
      "cell_type": "code",
      "source": [
        "def d():\n",
        "  \"\"\"\n",
        "  Функция удаляет документ из данных по номеру.\n",
        "  \"\"\"\n",
        "  number = input('Введите номер документе: ')\n",
        "  if check(number):\n",
        "    shelf_number = shelf(number)\n",
        "    directories[shelf_number[0]].remove(number)\n",
        "    [documents.pop(i) for i in range(len(documents)) if documents[i]['number'] == number]\n",
        "    print('Документ удален.')\n",
        "  else:\n",
        "    print('Документ не найден в базе.')\n",
        "  l()"
      ],
      "metadata": {
        "id": "7HE5goV_Z5r7"
      },
      "execution_count": 100,
      "outputs": []
    },
    {
      "cell_type": "code",
      "source": [
        "def m():\n",
        "  \"\"\"\n",
        "  Функция перемещает документ с указанным номером на полку с указанным номером.\n",
        "  \"\"\"\n",
        "  number = input('Введите номер документа: ')\n",
        "  if not check(number):\n",
        "    print('Документ не найден в базе')\n",
        "    l()\n",
        "  else:\n",
        "    shelf_number = input('Введите номер полки: ')\n",
        "    if not check_shelf(shelf_number):\n",
        "      print('Такой полки не существует. Текущий перечень полок:', *list(directories.keys()))\n",
        "    else:\n",
        "      directories[shelf(number)[0]].remove(number)\n",
        "      directories[shelf_number[0]].append(number)\n",
        "      print('Документ перемещен.')\n",
        "      l()"
      ],
      "metadata": {
        "id": "k18wOpfRjjMm"
      },
      "execution_count": 101,
      "outputs": []
    },
    {
      "cell_type": "code",
      "source": [
        "def main():\n",
        "  print('p - узнать автора документа')\n",
        "  print('s - узнать, на какой полке документ')\n",
        "  print('l - информация по всем документам')\n",
        "  print('ads - добавить полку')\n",
        "  print('ds - удалить полку')\n",
        "  print('ad - добавить документ')\n",
        "  print('d - удалить документ')\n",
        "  print('m - переместить документ')\n",
        "  print('q - завершить работу') \n",
        "  command = input('Введите команду: ')\n",
        "  while command != 'q':\n",
        "    if command == 'p' : p()\n",
        "    elif command == 's': s()\n",
        "    elif command == 'l': l()\n",
        "    elif command == 'ads': ads()\n",
        "    elif command == 'ds': ds()\n",
        "    elif command == 'ad': ad()\n",
        "    elif command == 'd': d()\n",
        "    elif command == 'm': m()\n",
        "    command = input('Введите команду: ')\n",
        "  print('Возвращайтесь скорей! ;)')"
      ],
      "metadata": {
        "id": "5rgC5bwChclu"
      },
      "execution_count": 104,
      "outputs": []
    },
    {
      "cell_type": "code",
      "source": [
        "main()"
      ],
      "metadata": {
        "colab": {
          "base_uri": "https://localhost:8080/"
        },
        "id": "xwcTewpHqpMW",
        "outputId": "5ecc659c-a71e-4263-ab6b-221cd75e059b"
      },
      "execution_count": 103,
      "outputs": [
        {
          "name": "stdout",
          "output_type": "stream",
          "text": [
            "p - узнать автора документа\n",
            "s - узнать, на какой полке документ\n",
            "l - информация по всем документам\n",
            "ads - добавить полку\n",
            "ds - удалить полку\n",
            "ad - добавить документ\n",
            "d - удалить документ\n",
            "m - переместить документ\n",
            "q - завершить работу\n",
            "Введите команду: l\n",
            "Текущий список документов:\n",
            "№: 2207 876234, тип: passport, владелец: Василий Гупкин, полка хранения: 1\n",
            "№: 11-2, тип: invoice, владелец: Геннадий Покемонов, полка хранения: 1\n",
            "№: 10006, тип: insurance, владелец: Аристарх Павлов, полка хранения: 2\n",
            "Введите команду: s\n",
            "Введите номер документа: 10006\n",
            "Документ хранится на полке: 2\n",
            "Введите команду: m\n",
            "Введите номер документа: 10006\n",
            "Введите номер полки: 3\n",
            "Документ перемещен.\n",
            "Текущий список документов:\n",
            "№: 2207 876234, тип: passport, владелец: Василий Гупкин, полка хранения: 1\n",
            "№: 11-2, тип: invoice, владелец: Геннадий Покемонов, полка хранения: 1\n",
            "№: 10006, тип: insurance, владелец: Аристарх Павлов, полка хранения: 3\n",
            "Введите команду: ds\n",
            "Введите номер полки: 3\n",
            "На полке есть документы, удалите их перед удалением полки. Текущий перечень полок: 1 2 3\n",
            "Введите команду: q\n"
          ]
        }
      ]
    }
  ]
}